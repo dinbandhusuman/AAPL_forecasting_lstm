{
 "cells": [
  {
   "cell_type": "code",
   "execution_count": 1,
   "id": "4070a5f5",
   "metadata": {
    "_cell_guid": "b1076dfc-b9ad-4769-8c92-a6c4dae69d19",
    "_uuid": "8f2839f25d086af736a60e9eeb907d3b93b6e0e5",
    "execution": {
     "iopub.execute_input": "2023-04-08T07:42:21.349232Z",
     "iopub.status.busy": "2023-04-08T07:42:21.348771Z",
     "iopub.status.idle": "2023-04-08T07:42:21.370105Z",
     "shell.execute_reply": "2023-04-08T07:42:21.369114Z"
    },
    "papermill": {
     "duration": 0.034459,
     "end_time": "2023-04-08T07:42:21.372623",
     "exception": false,
     "start_time": "2023-04-08T07:42:21.338164",
     "status": "completed"
    },
    "tags": []
   },
   "outputs": [
    {
     "name": "stdout",
     "output_type": "stream",
     "text": [
      "/kaggle/input/yahoo-finance-tesla/TSLA.csv\n",
      "/kaggle/input/aapllll/AAPL.csv\n"
     ]
    }
   ],
   "source": [
    "# This Python 3 environment comes with many helpful analytics libraries installed\n",
    "# It is defined by the kaggle/python Docker image: https://github.com/kaggle/docker-python\n",
    "# For example, here's several helpful packages to load\n",
    "\n",
    "import numpy as np # linear algebra\n",
    "import pandas as pd # data processing, CSV file I/O (e.g. pd.read_csv)\n",
    "\n",
    "# Input data files are available in the read-only \"../input/\" directory\n",
    "# For example, running this (by clicking run or pressing Shift+Enter) will list all files under the input directory\n",
    "\n",
    "import os\n",
    "for dirname, _, filenames in os.walk('/kaggle/input'):\n",
    "    for filename in filenames:\n",
    "        print(os.path.join(dirname, filename))\n",
    "\n",
    "# You can write up to 20GB to the current directory (/kaggle/working/) that gets preserved as output when you create a version using \"Save & Run All\" \n",
    "# You can also write temporary files to /kaggle/temp/, but they won't be saved outside of the current session"
   ]
  },
  {
   "cell_type": "code",
   "execution_count": 2,
   "id": "5a77b4ee",
   "metadata": {
    "execution": {
     "iopub.execute_input": "2023-04-08T07:42:21.392724Z",
     "iopub.status.busy": "2023-04-08T07:42:21.392267Z",
     "iopub.status.idle": "2023-04-08T07:42:22.653055Z",
     "shell.execute_reply": "2023-04-08T07:42:22.651849Z"
    },
    "papermill": {
     "duration": 1.274117,
     "end_time": "2023-04-08T07:42:22.655905",
     "exception": false,
     "start_time": "2023-04-08T07:42:21.381788",
     "status": "completed"
    },
    "tags": []
   },
   "outputs": [],
   "source": [
    "import pandas as pd\n",
    "import numpy as np\n",
    "import matplotlib.pyplot as plt\n",
    "import seaborn as sns\n",
    "from sklearn.preprocessing import MinMaxScaler"
   ]
  },
  {
   "cell_type": "code",
   "execution_count": 3,
   "id": "98edfa04",
   "metadata": {
    "execution": {
     "iopub.execute_input": "2023-04-08T07:42:22.676788Z",
     "iopub.status.busy": "2023-04-08T07:42:22.676272Z",
     "iopub.status.idle": "2023-04-08T07:42:22.727546Z",
     "shell.execute_reply": "2023-04-08T07:42:22.726606Z"
    },
    "papermill": {
     "duration": 0.06536,
     "end_time": "2023-04-08T07:42:22.729550",
     "exception": false,
     "start_time": "2023-04-08T07:42:22.664190",
     "status": "completed"
    },
    "tags": []
   },
   "outputs": [
    {
     "data": {
      "text/html": [
       "<div>\n",
       "<style scoped>\n",
       "    .dataframe tbody tr th:only-of-type {\n",
       "        vertical-align: middle;\n",
       "    }\n",
       "\n",
       "    .dataframe tbody tr th {\n",
       "        vertical-align: top;\n",
       "    }\n",
       "\n",
       "    .dataframe thead th {\n",
       "        text-align: right;\n",
       "    }\n",
       "</style>\n",
       "<table border=\"1\" class=\"dataframe\">\n",
       "  <thead>\n",
       "    <tr style=\"text-align: right;\">\n",
       "      <th></th>\n",
       "      <th>Unnamed: 0</th>\n",
       "      <th>symbol</th>\n",
       "      <th>date</th>\n",
       "      <th>close</th>\n",
       "      <th>high</th>\n",
       "      <th>low</th>\n",
       "      <th>open</th>\n",
       "      <th>volume</th>\n",
       "      <th>adjClose</th>\n",
       "      <th>adjHigh</th>\n",
       "      <th>adjLow</th>\n",
       "      <th>adjOpen</th>\n",
       "      <th>adjVolume</th>\n",
       "      <th>divCash</th>\n",
       "      <th>splitFactor</th>\n",
       "    </tr>\n",
       "  </thead>\n",
       "  <tbody>\n",
       "    <tr>\n",
       "      <th>0</th>\n",
       "      <td>0</td>\n",
       "      <td>AAPL</td>\n",
       "      <td>2015-05-27 00:00:00+00:00</td>\n",
       "      <td>132.045</td>\n",
       "      <td>132.260</td>\n",
       "      <td>130.05</td>\n",
       "      <td>130.34</td>\n",
       "      <td>45833246</td>\n",
       "      <td>121.682558</td>\n",
       "      <td>121.880685</td>\n",
       "      <td>119.844118</td>\n",
       "      <td>120.111360</td>\n",
       "      <td>45833246</td>\n",
       "      <td>0.0</td>\n",
       "      <td>1.0</td>\n",
       "    </tr>\n",
       "    <tr>\n",
       "      <th>1</th>\n",
       "      <td>1</td>\n",
       "      <td>AAPL</td>\n",
       "      <td>2015-05-28 00:00:00+00:00</td>\n",
       "      <td>131.780</td>\n",
       "      <td>131.950</td>\n",
       "      <td>131.10</td>\n",
       "      <td>131.86</td>\n",
       "      <td>30733309</td>\n",
       "      <td>121.438354</td>\n",
       "      <td>121.595013</td>\n",
       "      <td>120.811718</td>\n",
       "      <td>121.512076</td>\n",
       "      <td>30733309</td>\n",
       "      <td>0.0</td>\n",
       "      <td>1.0</td>\n",
       "    </tr>\n",
       "    <tr>\n",
       "      <th>2</th>\n",
       "      <td>2</td>\n",
       "      <td>AAPL</td>\n",
       "      <td>2015-05-29 00:00:00+00:00</td>\n",
       "      <td>130.280</td>\n",
       "      <td>131.450</td>\n",
       "      <td>129.90</td>\n",
       "      <td>131.23</td>\n",
       "      <td>50884452</td>\n",
       "      <td>120.056069</td>\n",
       "      <td>121.134251</td>\n",
       "      <td>119.705890</td>\n",
       "      <td>120.931516</td>\n",
       "      <td>50884452</td>\n",
       "      <td>0.0</td>\n",
       "      <td>1.0</td>\n",
       "    </tr>\n",
       "    <tr>\n",
       "      <th>3</th>\n",
       "      <td>3</td>\n",
       "      <td>AAPL</td>\n",
       "      <td>2015-06-01 00:00:00+00:00</td>\n",
       "      <td>130.535</td>\n",
       "      <td>131.390</td>\n",
       "      <td>130.05</td>\n",
       "      <td>131.20</td>\n",
       "      <td>32112797</td>\n",
       "      <td>120.291057</td>\n",
       "      <td>121.078960</td>\n",
       "      <td>119.844118</td>\n",
       "      <td>120.903870</td>\n",
       "      <td>32112797</td>\n",
       "      <td>0.0</td>\n",
       "      <td>1.0</td>\n",
       "    </tr>\n",
       "    <tr>\n",
       "      <th>4</th>\n",
       "      <td>4</td>\n",
       "      <td>AAPL</td>\n",
       "      <td>2015-06-02 00:00:00+00:00</td>\n",
       "      <td>129.960</td>\n",
       "      <td>130.655</td>\n",
       "      <td>129.32</td>\n",
       "      <td>129.86</td>\n",
       "      <td>33667627</td>\n",
       "      <td>119.761181</td>\n",
       "      <td>120.401640</td>\n",
       "      <td>119.171406</td>\n",
       "      <td>119.669029</td>\n",
       "      <td>33667627</td>\n",
       "      <td>0.0</td>\n",
       "      <td>1.0</td>\n",
       "    </tr>\n",
       "  </tbody>\n",
       "</table>\n",
       "</div>"
      ],
      "text/plain": [
       "   Unnamed: 0 symbol                       date    close     high     low  \\\n",
       "0           0   AAPL  2015-05-27 00:00:00+00:00  132.045  132.260  130.05   \n",
       "1           1   AAPL  2015-05-28 00:00:00+00:00  131.780  131.950  131.10   \n",
       "2           2   AAPL  2015-05-29 00:00:00+00:00  130.280  131.450  129.90   \n",
       "3           3   AAPL  2015-06-01 00:00:00+00:00  130.535  131.390  130.05   \n",
       "4           4   AAPL  2015-06-02 00:00:00+00:00  129.960  130.655  129.32   \n",
       "\n",
       "     open    volume    adjClose     adjHigh      adjLow     adjOpen  \\\n",
       "0  130.34  45833246  121.682558  121.880685  119.844118  120.111360   \n",
       "1  131.86  30733309  121.438354  121.595013  120.811718  121.512076   \n",
       "2  131.23  50884452  120.056069  121.134251  119.705890  120.931516   \n",
       "3  131.20  32112797  120.291057  121.078960  119.844118  120.903870   \n",
       "4  129.86  33667627  119.761181  120.401640  119.171406  119.669029   \n",
       "\n",
       "   adjVolume  divCash  splitFactor  \n",
       "0   45833246      0.0          1.0  \n",
       "1   30733309      0.0          1.0  \n",
       "2   50884452      0.0          1.0  \n",
       "3   32112797      0.0          1.0  \n",
       "4   33667627      0.0          1.0  "
      ]
     },
     "execution_count": 3,
     "metadata": {},
     "output_type": "execute_result"
    }
   ],
   "source": [
    "data = pd.read_csv('/kaggle/input/aapllll/AAPL.csv')\n",
    "data.head()"
   ]
  },
  {
   "cell_type": "code",
   "execution_count": 4,
   "id": "5804cece",
   "metadata": {
    "execution": {
     "iopub.execute_input": "2023-04-08T07:42:22.748622Z",
     "iopub.status.busy": "2023-04-08T07:42:22.748235Z",
     "iopub.status.idle": "2023-04-08T07:42:22.767022Z",
     "shell.execute_reply": "2023-04-08T07:42:22.765562Z"
    },
    "papermill": {
     "duration": 0.030517,
     "end_time": "2023-04-08T07:42:22.769018",
     "exception": false,
     "start_time": "2023-04-08T07:42:22.738501",
     "status": "completed"
    },
    "tags": []
   },
   "outputs": [
    {
     "data": {
      "text/html": [
       "<div>\n",
       "<style scoped>\n",
       "    .dataframe tbody tr th:only-of-type {\n",
       "        vertical-align: middle;\n",
       "    }\n",
       "\n",
       "    .dataframe tbody tr th {\n",
       "        vertical-align: top;\n",
       "    }\n",
       "\n",
       "    .dataframe thead th {\n",
       "        text-align: right;\n",
       "    }\n",
       "</style>\n",
       "<table border=\"1\" class=\"dataframe\">\n",
       "  <thead>\n",
       "    <tr style=\"text-align: right;\">\n",
       "      <th></th>\n",
       "      <th>Unnamed: 0</th>\n",
       "      <th>symbol</th>\n",
       "      <th>date</th>\n",
       "      <th>close</th>\n",
       "      <th>high</th>\n",
       "      <th>low</th>\n",
       "      <th>open</th>\n",
       "      <th>volume</th>\n",
       "      <th>adjClose</th>\n",
       "      <th>adjHigh</th>\n",
       "      <th>adjLow</th>\n",
       "      <th>adjOpen</th>\n",
       "      <th>adjVolume</th>\n",
       "      <th>divCash</th>\n",
       "      <th>splitFactor</th>\n",
       "    </tr>\n",
       "  </thead>\n",
       "  <tbody>\n",
       "    <tr>\n",
       "      <th>1253</th>\n",
       "      <td>1253</td>\n",
       "      <td>AAPL</td>\n",
       "      <td>2020-05-18 00:00:00+00:00</td>\n",
       "      <td>314.96</td>\n",
       "      <td>316.50</td>\n",
       "      <td>310.3241</td>\n",
       "      <td>313.17</td>\n",
       "      <td>33843125</td>\n",
       "      <td>314.96</td>\n",
       "      <td>316.50</td>\n",
       "      <td>310.3241</td>\n",
       "      <td>313.17</td>\n",
       "      <td>33843125</td>\n",
       "      <td>0.0</td>\n",
       "      <td>1.0</td>\n",
       "    </tr>\n",
       "    <tr>\n",
       "      <th>1254</th>\n",
       "      <td>1254</td>\n",
       "      <td>AAPL</td>\n",
       "      <td>2020-05-19 00:00:00+00:00</td>\n",
       "      <td>313.14</td>\n",
       "      <td>318.52</td>\n",
       "      <td>313.0100</td>\n",
       "      <td>315.03</td>\n",
       "      <td>25432385</td>\n",
       "      <td>313.14</td>\n",
       "      <td>318.52</td>\n",
       "      <td>313.0100</td>\n",
       "      <td>315.03</td>\n",
       "      <td>25432385</td>\n",
       "      <td>0.0</td>\n",
       "      <td>1.0</td>\n",
       "    </tr>\n",
       "    <tr>\n",
       "      <th>1255</th>\n",
       "      <td>1255</td>\n",
       "      <td>AAPL</td>\n",
       "      <td>2020-05-20 00:00:00+00:00</td>\n",
       "      <td>319.23</td>\n",
       "      <td>319.52</td>\n",
       "      <td>316.2000</td>\n",
       "      <td>316.68</td>\n",
       "      <td>27876215</td>\n",
       "      <td>319.23</td>\n",
       "      <td>319.52</td>\n",
       "      <td>316.2000</td>\n",
       "      <td>316.68</td>\n",
       "      <td>27876215</td>\n",
       "      <td>0.0</td>\n",
       "      <td>1.0</td>\n",
       "    </tr>\n",
       "    <tr>\n",
       "      <th>1256</th>\n",
       "      <td>1256</td>\n",
       "      <td>AAPL</td>\n",
       "      <td>2020-05-21 00:00:00+00:00</td>\n",
       "      <td>316.85</td>\n",
       "      <td>320.89</td>\n",
       "      <td>315.8700</td>\n",
       "      <td>318.66</td>\n",
       "      <td>25672211</td>\n",
       "      <td>316.85</td>\n",
       "      <td>320.89</td>\n",
       "      <td>315.8700</td>\n",
       "      <td>318.66</td>\n",
       "      <td>25672211</td>\n",
       "      <td>0.0</td>\n",
       "      <td>1.0</td>\n",
       "    </tr>\n",
       "    <tr>\n",
       "      <th>1257</th>\n",
       "      <td>1257</td>\n",
       "      <td>AAPL</td>\n",
       "      <td>2020-05-22 00:00:00+00:00</td>\n",
       "      <td>318.89</td>\n",
       "      <td>319.23</td>\n",
       "      <td>315.3500</td>\n",
       "      <td>315.77</td>\n",
       "      <td>20450754</td>\n",
       "      <td>318.89</td>\n",
       "      <td>319.23</td>\n",
       "      <td>315.3500</td>\n",
       "      <td>315.77</td>\n",
       "      <td>20450754</td>\n",
       "      <td>0.0</td>\n",
       "      <td>1.0</td>\n",
       "    </tr>\n",
       "  </tbody>\n",
       "</table>\n",
       "</div>"
      ],
      "text/plain": [
       "      Unnamed: 0 symbol                       date   close    high       low  \\\n",
       "1253        1253   AAPL  2020-05-18 00:00:00+00:00  314.96  316.50  310.3241   \n",
       "1254        1254   AAPL  2020-05-19 00:00:00+00:00  313.14  318.52  313.0100   \n",
       "1255        1255   AAPL  2020-05-20 00:00:00+00:00  319.23  319.52  316.2000   \n",
       "1256        1256   AAPL  2020-05-21 00:00:00+00:00  316.85  320.89  315.8700   \n",
       "1257        1257   AAPL  2020-05-22 00:00:00+00:00  318.89  319.23  315.3500   \n",
       "\n",
       "        open    volume  adjClose  adjHigh    adjLow  adjOpen  adjVolume  \\\n",
       "1253  313.17  33843125    314.96   316.50  310.3241   313.17   33843125   \n",
       "1254  315.03  25432385    313.14   318.52  313.0100   315.03   25432385   \n",
       "1255  316.68  27876215    319.23   319.52  316.2000   316.68   27876215   \n",
       "1256  318.66  25672211    316.85   320.89  315.8700   318.66   25672211   \n",
       "1257  315.77  20450754    318.89   319.23  315.3500   315.77   20450754   \n",
       "\n",
       "      divCash  splitFactor  \n",
       "1253      0.0          1.0  \n",
       "1254      0.0          1.0  \n",
       "1255      0.0          1.0  \n",
       "1256      0.0          1.0  \n",
       "1257      0.0          1.0  "
      ]
     },
     "execution_count": 4,
     "metadata": {},
     "output_type": "execute_result"
    }
   ],
   "source": [
    "data.tail()"
   ]
  },
  {
   "cell_type": "markdown",
   "id": "52c0c2f6",
   "metadata": {
    "papermill": {
     "duration": 0.008632,
     "end_time": "2023-04-08T07:42:22.786743",
     "exception": false,
     "start_time": "2023-04-08T07:42:22.778111",
     "status": "completed"
    },
    "tags": []
   },
   "source": [
    "trending startwith 5-2015 and endwith 5-2020"
   ]
  },
  {
   "cell_type": "code",
   "execution_count": 5,
   "id": "ad73c26a",
   "metadata": {
    "execution": {
     "iopub.execute_input": "2023-04-08T07:42:22.807274Z",
     "iopub.status.busy": "2023-04-08T07:42:22.806861Z",
     "iopub.status.idle": "2023-04-08T07:42:22.813326Z",
     "shell.execute_reply": "2023-04-08T07:42:22.812344Z"
    },
    "papermill": {
     "duration": 0.019965,
     "end_time": "2023-04-08T07:42:22.815183",
     "exception": false,
     "start_time": "2023-04-08T07:42:22.795218",
     "status": "completed"
    },
    "tags": []
   },
   "outputs": [
    {
     "data": {
      "text/plain": [
       "(1258, 15)"
      ]
     },
     "execution_count": 5,
     "metadata": {},
     "output_type": "execute_result"
    }
   ],
   "source": [
    "data.shape"
   ]
  },
  {
   "cell_type": "code",
   "execution_count": 6,
   "id": "b8a44db5",
   "metadata": {
    "execution": {
     "iopub.execute_input": "2023-04-08T07:42:22.834966Z",
     "iopub.status.busy": "2023-04-08T07:42:22.834566Z",
     "iopub.status.idle": "2023-04-08T07:42:22.844847Z",
     "shell.execute_reply": "2023-04-08T07:42:22.843728Z"
    },
    "papermill": {
     "duration": 0.022833,
     "end_time": "2023-04-08T07:42:22.846994",
     "exception": false,
     "start_time": "2023-04-08T07:42:22.824161",
     "status": "completed"
    },
    "tags": []
   },
   "outputs": [],
   "source": [
    "df = data.reset_index()['close']"
   ]
  },
  {
   "cell_type": "code",
   "execution_count": 7,
   "id": "5b25f4c4",
   "metadata": {
    "execution": {
     "iopub.execute_input": "2023-04-08T07:42:22.867812Z",
     "iopub.status.busy": "2023-04-08T07:42:22.867428Z",
     "iopub.status.idle": "2023-04-08T07:42:22.875804Z",
     "shell.execute_reply": "2023-04-08T07:42:22.874114Z"
    },
    "papermill": {
     "duration": 0.022098,
     "end_time": "2023-04-08T07:42:22.878697",
     "exception": false,
     "start_time": "2023-04-08T07:42:22.856599",
     "status": "completed"
    },
    "tags": []
   },
   "outputs": [
    {
     "data": {
      "text/plain": [
       "0    132.045\n",
       "1    131.780\n",
       "2    130.280\n",
       "3    130.535\n",
       "4    129.960\n",
       "Name: close, dtype: float64"
      ]
     },
     "execution_count": 7,
     "metadata": {},
     "output_type": "execute_result"
    }
   ],
   "source": [
    "df.head()"
   ]
  },
  {
   "cell_type": "code",
   "execution_count": 8,
   "id": "c03555ce",
   "metadata": {
    "execution": {
     "iopub.execute_input": "2023-04-08T07:42:22.898709Z",
     "iopub.status.busy": "2023-04-08T07:42:22.898327Z",
     "iopub.status.idle": "2023-04-08T07:42:23.119537Z",
     "shell.execute_reply": "2023-04-08T07:42:23.118818Z"
    },
    "papermill": {
     "duration": 0.234203,
     "end_time": "2023-04-08T07:42:23.121902",
     "exception": false,
     "start_time": "2023-04-08T07:42:22.887699",
     "status": "completed"
    },
    "tags": []
   },
   "outputs": [
    {
     "data": {
      "text/plain": [
       "<AxesSubplot:ylabel='close'>"
      ]
     },
     "execution_count": 8,
     "metadata": {},
     "output_type": "execute_result"
    },
    {
     "data": {
      "image/png": "[encoded data removed]",
      "text/plain": [
       "<Figure size 640x480 with 1 Axes>"
      ]
     },
     "metadata": {},
     "output_type": "display_data"
    }
   ],
   "source": [
    "#visualizing the clse features--\n",
    "sns.lineplot(df)"
   ]
  },
  {
   "cell_type": "code",
   "execution_count": 9,
   "id": "0fb9ec7f",
   "metadata": {
    "execution": {
     "iopub.execute_input": "2023-04-08T07:42:23.146295Z",
     "iopub.status.busy": "2023-04-08T07:42:23.144908Z",
     "iopub.status.idle": "2023-04-08T07:42:23.152001Z",
     "shell.execute_reply": "2023-04-08T07:42:23.151004Z"
    },
    "papermill": {
     "duration": 0.021315,
     "end_time": "2023-04-08T07:42:23.154417",
     "exception": false,
     "start_time": "2023-04-08T07:42:23.133102",
     "status": "completed"
    },
    "tags": []
   },
   "outputs": [],
   "source": [
    "# converting these data into scalar\n",
    "scalar = MinMaxScaler(feature_range=(0,1))\n",
    "df = scalar.fit_transform(np.array(df).reshape(-1,1))"
   ]
  },
  {
   "cell_type": "code",
   "execution_count": 10,
   "id": "94c8212a",
   "metadata": {
    "execution": {
     "iopub.execute_input": "2023-04-08T07:42:23.176823Z",
     "iopub.status.busy": "2023-04-08T07:42:23.175530Z",
     "iopub.status.idle": "2023-04-08T07:42:23.183280Z",
     "shell.execute_reply": "2023-04-08T07:42:23.181714Z"
    },
    "papermill": {
     "duration": 0.022077,
     "end_time": "2023-04-08T07:42:23.186174",
     "exception": false,
     "start_time": "2023-04-08T07:42:23.164097",
     "status": "completed"
    },
    "tags": []
   },
   "outputs": [
    {
     "name": "stdout",
     "output_type": "stream",
     "text": [
      "[[0.17607447]\n",
      " [0.17495567]\n",
      " [0.16862282]\n",
      " ...\n",
      " [0.96635143]\n",
      " [0.9563033 ]\n",
      " [0.96491598]]\n"
     ]
    }
   ],
   "source": [
    "print(df)"
   ]
  },
  {
   "cell_type": "code",
   "execution_count": 11,
   "id": "e1012c64",
   "metadata": {
    "execution": {
     "iopub.execute_input": "2023-04-08T07:42:23.208188Z",
     "iopub.status.busy": "2023-04-08T07:42:23.207470Z",
     "iopub.status.idle": "2023-04-08T07:42:23.213060Z",
     "shell.execute_reply": "2023-04-08T07:42:23.211825Z"
    },
    "papermill": {
     "duration": 0.018205,
     "end_time": "2023-04-08T07:42:23.215153",
     "exception": false,
     "start_time": "2023-04-08T07:42:23.196948",
     "status": "completed"
    },
    "tags": []
   },
   "outputs": [],
   "source": [
    "#spliting data for train and test purpose---\n",
    "train = int(len(df)*0.65)\n",
    "test = len(df)-train\n",
    "train_data = df[:train,:]\n",
    "test_data = df[train:,:]"
   ]
  },
  {
   "cell_type": "code",
   "execution_count": 12,
   "id": "24b2191a",
   "metadata": {
    "execution": {
     "iopub.execute_input": "2023-04-08T07:42:23.239478Z",
     "iopub.status.busy": "2023-04-08T07:42:23.238844Z",
     "iopub.status.idle": "2023-04-08T07:42:23.243869Z",
     "shell.execute_reply": "2023-04-08T07:42:23.242580Z"
    },
    "papermill": {
     "duration": 0.020428,
     "end_time": "2023-04-08T07:42:23.246020",
     "exception": false,
     "start_time": "2023-04-08T07:42:23.225592",
     "status": "completed"
    },
    "tags": []
   },
   "outputs": [
    {
     "name": "stdout",
     "output_type": "stream",
     "text": [
      "817 441\n"
     ]
    }
   ],
   "source": [
    "print(len(train_data),len(test_data))"
   ]
  },
  {
   "cell_type": "code",
   "execution_count": 13,
   "id": "4e1967c0",
   "metadata": {
    "execution": {
     "iopub.execute_input": "2023-04-08T07:42:23.273313Z",
     "iopub.status.busy": "2023-04-08T07:42:23.272620Z",
     "iopub.status.idle": "2023-04-08T07:42:23.278373Z",
     "shell.execute_reply": "2023-04-08T07:42:23.277583Z"
    },
    "papermill": {
     "duration": 0.022068,
     "end_time": "2023-04-08T07:42:23.280706",
     "exception": false,
     "start_time": "2023-04-08T07:42:23.258638",
     "status": "completed"
    },
    "tags": []
   },
   "outputs": [],
   "source": [
    "# converting these array value into dataset_metrix\n",
    "\n",
    "def create_dataset(dataset,timestamp=1):\n",
    "    train_x,train_y=[],[]\n",
    "    for i in range(len(dataset)-timestamp-1):\n",
    "        a = dataset[i:(i+timestamp),0]\n",
    "        train_x.append(a)\n",
    "        train_y.append(dataset[i+timestamp,0])\n",
    "    return np.array(train_x),np.array(train_y)"
   ]
  },
  {
   "cell_type": "code",
   "execution_count": 14,
   "id": "8bcc70bd",
   "metadata": {
    "execution": {
     "iopub.execute_input": "2023-04-08T07:42:23.309117Z",
     "iopub.status.busy": "2023-04-08T07:42:23.308507Z",
     "iopub.status.idle": "2023-04-08T07:42:23.315516Z",
     "shell.execute_reply": "2023-04-08T07:42:23.314338Z"
    },
    "papermill": {
     "duration": 0.024621,
     "end_time": "2023-04-08T07:42:23.318411",
     "exception": false,
     "start_time": "2023-04-08T07:42:23.293790",
     "status": "completed"
    },
    "tags": []
   },
   "outputs": [],
   "source": [
    "timestamp = 100\n",
    "x_train,y_train = create_dataset(train_data,timestamp)\n",
    "x_test,y_test = create_dataset(test_data,timestamp)"
   ]
  },
  {
   "cell_type": "code",
   "execution_count": 15,
   "id": "4ce9d80f",
   "metadata": {
    "execution": {
     "iopub.execute_input": "2023-04-08T07:42:23.344774Z",
     "iopub.status.busy": "2023-04-08T07:42:23.343599Z",
     "iopub.status.idle": "2023-04-08T07:42:23.350493Z",
     "shell.execute_reply": "2023-04-08T07:42:23.349495Z"
    },
    "papermill": {
     "duration": 0.021995,
     "end_time": "2023-04-08T07:42:23.352292",
     "exception": false,
     "start_time": "2023-04-08T07:42:23.330297",
     "status": "completed"
    },
    "tags": []
   },
   "outputs": [
    {
     "name": "stdout",
     "output_type": "stream",
     "text": [
      "(716, 100) (716,)\n"
     ]
    }
   ],
   "source": [
    "print(x_train.shape,y_train.shape)"
   ]
  },
  {
   "cell_type": "code",
   "execution_count": 16,
   "id": "f1a8272e",
   "metadata": {
    "execution": {
     "iopub.execute_input": "2023-04-08T07:42:23.377994Z",
     "iopub.status.busy": "2023-04-08T07:42:23.377333Z",
     "iopub.status.idle": "2023-04-08T07:42:23.382250Z",
     "shell.execute_reply": "2023-04-08T07:42:23.381573Z"
    },
    "papermill": {
     "duration": 0.020447,
     "end_time": "2023-04-08T07:42:23.384332",
     "exception": false,
     "start_time": "2023-04-08T07:42:23.363885",
     "status": "completed"
    },
    "tags": []
   },
   "outputs": [
    {
     "name": "stdout",
     "output_type": "stream",
     "text": [
      "(340, 100) (340,)\n"
     ]
    }
   ],
   "source": [
    "print(x_test.shape,y_test.shape)"
   ]
  },
  {
   "cell_type": "code",
   "execution_count": 17,
   "id": "0478b2bf",
   "metadata": {
    "execution": {
     "iopub.execute_input": "2023-04-08T07:42:23.408741Z",
     "iopub.status.busy": "2023-04-08T07:42:23.408117Z",
     "iopub.status.idle": "2023-04-08T07:42:23.412826Z",
     "shell.execute_reply": "2023-04-08T07:42:23.412183Z"
    },
    "papermill": {
     "duration": 0.017481,
     "end_time": "2023-04-08T07:42:23.414612",
     "exception": false,
     "start_time": "2023-04-08T07:42:23.397131",
     "status": "completed"
    },
    "tags": []
   },
   "outputs": [],
   "source": [
    "# input are re shape int 3 dimensional because lstm require---\n",
    "\n",
    "x_train = x_train.reshape(x_train.shape[0],x_train.shape[1],1)\n",
    "x_test = x_test.reshape(x_test.shape[0],x_test.shape[1],1)"
   ]
  },
  {
   "cell_type": "code",
   "execution_count": 18,
   "id": "e24e75c2",
   "metadata": {
    "execution": {
     "iopub.execute_input": "2023-04-08T07:42:23.435129Z",
     "iopub.status.busy": "2023-04-08T07:42:23.434521Z",
     "iopub.status.idle": "2023-04-08T07:42:23.440220Z",
     "shell.execute_reply": "2023-04-08T07:42:23.439534Z"
    },
    "papermill": {
     "duration": 0.018082,
     "end_time": "2023-04-08T07:42:23.442093",
     "exception": false,
     "start_time": "2023-04-08T07:42:23.424011",
     "status": "completed"
    },
    "tags": []
   },
   "outputs": [
    {
     "data": {
      "text/plain": [
       "(716, 100, 1)"
      ]
     },
     "execution_count": 18,
     "metadata": {},
     "output_type": "execute_result"
    }
   ],
   "source": [
    "x_train.shape"
   ]
  },
  {
   "cell_type": "code",
   "execution_count": 19,
   "id": "5b984cb4",
   "metadata": {
    "execution": {
     "iopub.execute_input": "2023-04-08T07:42:23.463033Z",
     "iopub.status.busy": "2023-04-08T07:42:23.462410Z",
     "iopub.status.idle": "2023-04-08T07:42:23.468102Z",
     "shell.execute_reply": "2023-04-08T07:42:23.467431Z"
    },
    "papermill": {
     "duration": 0.018193,
     "end_time": "2023-04-08T07:42:23.469913",
     "exception": false,
     "start_time": "2023-04-08T07:42:23.451720",
     "status": "completed"
    },
    "tags": []
   },
   "outputs": [
    {
     "data": {
      "text/plain": [
       "(340, 100, 1)"
      ]
     },
     "execution_count": 19,
     "metadata": {},
     "output_type": "execute_result"
    }
   ],
   "source": [
    "x_test.shape"
   ]
  },
  {
   "cell_type": "code",
   "execution_count": 20,
   "id": "797d0fcc",
   "metadata": {
    "execution": {
     "iopub.execute_input": "2023-04-08T07:42:23.490962Z",
     "iopub.status.busy": "2023-04-08T07:42:23.490325Z",
     "iopub.status.idle": "2023-04-08T07:42:31.489427Z",
     "shell.execute_reply": "2023-04-08T07:42:31.488238Z"
    },
    "papermill": {
     "duration": 8.012321,
     "end_time": "2023-04-08T07:42:31.492013",
     "exception": false,
     "start_time": "2023-04-08T07:42:23.479692",
     "status": "completed"
    },
    "tags": []
   },
   "outputs": [],
   "source": [
    "from tensorflow.keras.layers import LSTM,Dense\n",
    "from tensorflow.keras.models import Sequential\n"
   ]
  },
  {
   "cell_type": "code",
   "execution_count": 21,
   "id": "652855c6",
   "metadata": {
    "execution": {
     "iopub.execute_input": "2023-04-08T07:42:31.514731Z",
     "iopub.status.busy": "2023-04-08T07:42:31.513543Z",
     "iopub.status.idle": "2023-04-08T07:42:32.395915Z",
     "shell.execute_reply": "2023-04-08T07:42:32.394812Z"
    },
    "papermill": {
     "duration": 0.896557,
     "end_time": "2023-04-08T07:42:32.398679",
     "exception": false,
     "start_time": "2023-04-08T07:42:31.502122",
     "status": "completed"
    },
    "tags": []
   },
   "outputs": [],
   "source": [
    "model=Sequential()\n",
    "model.add(LSTM(50,return_sequences=True,input_shape=(100,1)))\n",
    "model.add(LSTM(50,return_sequences=True))\n",
    "model.add(LSTM(50))\n",
    "model.add(Dense(1))\n",
    "model.compile(loss='mean_squared_error',optimizer='adam')"
   ]
  },
  {
   "cell_type": "code",
   "execution_count": 22,
   "id": "86189621",
   "metadata": {
    "execution": {
     "iopub.execute_input": "2023-04-08T07:42:32.420927Z",
     "iopub.status.busy": "2023-04-08T07:42:32.420577Z",
     "iopub.status.idle": "2023-04-08T07:42:32.442601Z",
     "shell.execute_reply": "2023-04-08T07:42:32.441189Z"
    },
    "papermill": {
     "duration": 0.036231,
     "end_time": "2023-04-08T07:42:32.445505",
     "exception": false,
     "start_time": "2023-04-08T07:42:32.409274",
     "status": "completed"
    },
    "tags": []
   },
   "outputs": [
    {
     "name": "stdout",
     "output_type": "stream",
     "text": [
      "Model: \"sequential\"\n",
      "_________________________________________________________________\n",
      " Layer (type)                Output Shape              Param #   \n",
      "=================================================================\n",
      " lstm (LSTM)                 (None, 100, 50)           10400     \n",
      "                                                                 \n",
      " lstm_1 (LSTM)               (None, 100, 50)           20200     \n",
      "                                                                 \n",
      " lstm_2 (LSTM)               (None, 50)                20200     \n",
      "                                                                 \n",
      " dense (Dense)               (None, 1)                 51        \n",
      "                                                                 \n",
      "=================================================================\n",
      "Total params: 50,851\n",
      "Trainable params: 50,851\n",
      "Non-trainable params: 0\n",
      "_________________________________________________________________\n"
     ]
    }
   ],
   "source": [
    "model.summary()"
   ]
  },
  {
   "cell_type": "code",
   "execution_count": 23,
   "id": "e9e7979b",
   "metadata": {
    "execution": {
     "iopub.execute_input": "2023-04-08T07:42:32.469084Z",
     "iopub.status.busy": "2023-04-08T07:42:32.468729Z",
     "iopub.status.idle": "2023-04-08T07:45:26.971985Z",
     "shell.execute_reply": "2023-04-08T07:45:26.971109Z"
    },
    "papermill": {
     "duration": 174.51719,
     "end_time": "2023-04-08T07:45:26.973735",
     "exception": false,
     "start_time": "2023-04-08T07:42:32.456545",
     "status": "completed"
    },
    "tags": []
   },
   "outputs": [
    {
     "name": "stdout",
     "output_type": "stream",
     "text": [
      "Epoch 1/100\n",
      "12/12 [==============================] - 7s 222ms/step - loss: 0.0254 - val_loss: 0.0509\n",
      "Epoch 2/100\n",
      "12/12 [==============================] - 2s 137ms/step - loss: 0.0039 - val_loss: 0.0047\n",
      "Epoch 3/100\n",
      "12/12 [==============================] - 2s 136ms/step - loss: 0.0013 - val_loss: 0.0044\n",
      "Epoch 4/100\n",
      "12/12 [==============================] - 2s 136ms/step - loss: 7.8403e-04 - val_loss: 0.0063\n",
      "Epoch 5/100\n",
      "12/12 [==============================] - 2s 136ms/step - loss: 6.7862e-04 - val_loss: 0.0060\n",
      "Epoch 6/100\n",
      "12/12 [==============================] - 2s 135ms/step - loss: 6.8490e-04 - val_loss: 0.0053\n",
      "Epoch 7/100\n",
      "12/12 [==============================] - 2s 135ms/step - loss: 6.7298e-04 - val_loss: 0.0042\n",
      "Epoch 8/100\n",
      "12/12 [==============================] - 2s 136ms/step - loss: 6.6441e-04 - val_loss: 0.0044\n",
      "Epoch 9/100\n",
      "12/12 [==============================] - 2s 137ms/step - loss: 6.6343e-04 - val_loss: 0.0045\n",
      "Epoch 10/100\n",
      "12/12 [==============================] - 2s 144ms/step - loss: 6.3643e-04 - val_loss: 0.0040\n",
      "Epoch 11/100\n",
      "12/12 [==============================] - 2s 138ms/step - loss: 6.5167e-04 - val_loss: 0.0039\n",
      "Epoch 12/100\n",
      "12/12 [==============================] - 2s 136ms/step - loss: 6.5269e-04 - val_loss: 0.0039\n",
      "Epoch 13/100\n",
      "12/12 [==============================] - 2s 137ms/step - loss: 6.4048e-04 - val_loss: 0.0045\n",
      "Epoch 14/100\n",
      "12/12 [==============================] - 2s 138ms/step - loss: 6.0466e-04 - val_loss: 0.0040\n",
      "Epoch 15/100\n",
      "12/12 [==============================] - 2s 137ms/step - loss: 5.9162e-04 - val_loss: 0.0036\n",
      "Epoch 16/100\n",
      "12/12 [==============================] - 2s 137ms/step - loss: 5.8337e-04 - val_loss: 0.0045\n",
      "Epoch 17/100\n",
      "12/12 [==============================] - 2s 140ms/step - loss: 6.3176e-04 - val_loss: 0.0054\n",
      "Epoch 18/100\n",
      "12/12 [==============================] - 2s 139ms/step - loss: 6.3633e-04 - val_loss: 0.0047\n",
      "Epoch 19/100\n",
      "12/12 [==============================] - 2s 138ms/step - loss: 5.9071e-04 - val_loss: 0.0032\n",
      "Epoch 20/100\n",
      "12/12 [==============================] - 2s 137ms/step - loss: 5.4982e-04 - val_loss: 0.0033\n",
      "Epoch 21/100\n",
      "12/12 [==============================] - 2s 137ms/step - loss: 5.3844e-04 - val_loss: 0.0030\n",
      "Epoch 22/100\n",
      "12/12 [==============================] - 2s 138ms/step - loss: 5.4937e-04 - val_loss: 0.0029\n",
      "Epoch 23/100\n",
      "12/12 [==============================] - 2s 141ms/step - loss: 5.2943e-04 - val_loss: 0.0037\n",
      "Epoch 24/100\n",
      "12/12 [==============================] - 2s 140ms/step - loss: 5.3593e-04 - val_loss: 0.0029\n",
      "Epoch 25/100\n",
      "12/12 [==============================] - 2s 143ms/step - loss: 5.2136e-04 - val_loss: 0.0027\n",
      "Epoch 26/100\n",
      "12/12 [==============================] - 2s 143ms/step - loss: 4.9386e-04 - val_loss: 0.0025\n",
      "Epoch 27/100\n",
      "12/12 [==============================] - 2s 144ms/step - loss: 5.4198e-04 - val_loss: 0.0028\n",
      "Epoch 28/100\n",
      "12/12 [==============================] - 2s 142ms/step - loss: 4.6453e-04 - val_loss: 0.0023\n",
      "Epoch 29/100\n",
      "12/12 [==============================] - 2s 143ms/step - loss: 4.8303e-04 - val_loss: 0.0037\n",
      "Epoch 30/100\n",
      "12/12 [==============================] - 2s 144ms/step - loss: 5.1002e-04 - val_loss: 0.0022\n",
      "Epoch 31/100\n",
      "12/12 [==============================] - 2s 150ms/step - loss: 4.8089e-04 - val_loss: 0.0025\n",
      "Epoch 32/100\n",
      "12/12 [==============================] - 2s 139ms/step - loss: 4.6254e-04 - val_loss: 0.0021\n",
      "Epoch 33/100\n",
      "12/12 [==============================] - 2s 141ms/step - loss: 4.2380e-04 - val_loss: 0.0019\n",
      "Epoch 34/100\n",
      "12/12 [==============================] - 2s 141ms/step - loss: 4.1430e-04 - val_loss: 0.0019\n",
      "Epoch 35/100\n",
      "12/12 [==============================] - 2s 143ms/step - loss: 4.0665e-04 - val_loss: 0.0018\n",
      "Epoch 36/100\n",
      "12/12 [==============================] - 2s 140ms/step - loss: 4.0931e-04 - val_loss: 0.0019\n",
      "Epoch 37/100\n",
      "12/12 [==============================] - 2s 142ms/step - loss: 4.0871e-04 - val_loss: 0.0017\n",
      "Epoch 38/100\n",
      "12/12 [==============================] - 2s 141ms/step - loss: 4.0364e-04 - val_loss: 0.0018\n",
      "Epoch 39/100\n",
      "12/12 [==============================] - 2s 139ms/step - loss: 4.1440e-04 - val_loss: 0.0018\n",
      "Epoch 40/100\n",
      "12/12 [==============================] - 2s 138ms/step - loss: 4.0622e-04 - val_loss: 0.0020\n",
      "Epoch 41/100\n",
      "12/12 [==============================] - 2s 138ms/step - loss: 4.3058e-04 - val_loss: 0.0017\n",
      "Epoch 42/100\n",
      "12/12 [==============================] - 2s 138ms/step - loss: 3.8884e-04 - val_loss: 0.0015\n",
      "Epoch 43/100\n",
      "12/12 [==============================] - 2s 140ms/step - loss: 3.7210e-04 - val_loss: 0.0021\n",
      "Epoch 44/100\n",
      "12/12 [==============================] - 2s 141ms/step - loss: 3.5795e-04 - val_loss: 0.0015\n",
      "Epoch 45/100\n",
      "12/12 [==============================] - 2s 141ms/step - loss: 3.7824e-04 - val_loss: 0.0024\n",
      "Epoch 46/100\n",
      "12/12 [==============================] - 2s 143ms/step - loss: 3.4573e-04 - val_loss: 0.0020\n",
      "Epoch 47/100\n",
      "12/12 [==============================] - 2s 146ms/step - loss: 3.4519e-04 - val_loss: 0.0016\n",
      "Epoch 48/100\n",
      "12/12 [==============================] - 2s 143ms/step - loss: 3.5517e-04 - val_loss: 0.0031\n",
      "Epoch 49/100\n",
      "12/12 [==============================] - 2s 141ms/step - loss: 3.5639e-04 - val_loss: 0.0017\n",
      "Epoch 50/100\n",
      "12/12 [==============================] - 2s 143ms/step - loss: 3.1976e-04 - val_loss: 0.0017\n",
      "Epoch 51/100\n",
      "12/12 [==============================] - 2s 144ms/step - loss: 3.2869e-04 - val_loss: 0.0019\n",
      "Epoch 52/100\n",
      "12/12 [==============================] - 2s 138ms/step - loss: 3.1031e-04 - val_loss: 0.0038\n",
      "Epoch 53/100\n",
      "12/12 [==============================] - 2s 141ms/step - loss: 3.5108e-04 - val_loss: 0.0016\n",
      "Epoch 54/100\n",
      "12/12 [==============================] - 2s 143ms/step - loss: 3.2704e-04 - val_loss: 0.0016\n",
      "Epoch 55/100\n",
      "12/12 [==============================] - 2s 144ms/step - loss: 3.0961e-04 - val_loss: 0.0016\n",
      "Epoch 56/100\n",
      "12/12 [==============================] - 2s 144ms/step - loss: 3.0487e-04 - val_loss: 0.0014\n",
      "Epoch 57/100\n",
      "12/12 [==============================] - 2s 146ms/step - loss: 3.3108e-04 - val_loss: 0.0018\n",
      "Epoch 58/100\n",
      "12/12 [==============================] - 2s 142ms/step - loss: 2.9000e-04 - val_loss: 0.0017\n",
      "Epoch 59/100\n",
      "12/12 [==============================] - 2s 140ms/step - loss: 2.9997e-04 - val_loss: 0.0036\n",
      "Epoch 60/100\n",
      "12/12 [==============================] - 2s 144ms/step - loss: 3.3634e-04 - val_loss: 0.0016\n",
      "Epoch 61/100\n",
      "12/12 [==============================] - 2s 143ms/step - loss: 3.0024e-04 - val_loss: 0.0020\n",
      "Epoch 62/100\n",
      "12/12 [==============================] - 2s 145ms/step - loss: 2.7249e-04 - val_loss: 0.0014\n",
      "Epoch 63/100\n",
      "12/12 [==============================] - 2s 144ms/step - loss: 2.7449e-04 - val_loss: 0.0016\n",
      "Epoch 64/100\n",
      "12/12 [==============================] - 2s 145ms/step - loss: 2.6661e-04 - val_loss: 0.0013\n",
      "Epoch 65/100\n",
      "12/12 [==============================] - 2s 147ms/step - loss: 2.7437e-04 - val_loss: 0.0018\n",
      "Epoch 66/100\n",
      "12/12 [==============================] - 2s 142ms/step - loss: 2.6598e-04 - val_loss: 0.0013\n",
      "Epoch 67/100\n",
      "12/12 [==============================] - 2s 142ms/step - loss: 2.6977e-04 - val_loss: 0.0028\n",
      "Epoch 68/100\n",
      "12/12 [==============================] - 2s 144ms/step - loss: 2.7455e-04 - val_loss: 0.0013\n",
      "Epoch 69/100\n",
      "12/12 [==============================] - 2s 143ms/step - loss: 2.5884e-04 - val_loss: 0.0013\n",
      "Epoch 70/100\n",
      "12/12 [==============================] - 2s 141ms/step - loss: 2.5410e-04 - val_loss: 0.0018\n",
      "Epoch 71/100\n",
      "12/12 [==============================] - 2s 139ms/step - loss: 2.4951e-04 - val_loss: 0.0025\n",
      "Epoch 72/100\n",
      "12/12 [==============================] - 2s 142ms/step - loss: 2.5653e-04 - val_loss: 0.0018\n",
      "Epoch 73/100\n",
      "12/12 [==============================] - 2s 143ms/step - loss: 2.3920e-04 - val_loss: 0.0013\n",
      "Epoch 74/100\n",
      "12/12 [==============================] - 2s 141ms/step - loss: 2.3684e-04 - val_loss: 0.0014\n",
      "Epoch 75/100\n",
      "12/12 [==============================] - 2s 140ms/step - loss: 2.2818e-04 - val_loss: 0.0014\n",
      "Epoch 76/100\n",
      "12/12 [==============================] - 2s 145ms/step - loss: 2.2399e-04 - val_loss: 0.0013\n",
      "Epoch 77/100\n",
      "12/12 [==============================] - 2s 141ms/step - loss: 2.1826e-04 - val_loss: 0.0013\n",
      "Epoch 78/100\n",
      "12/12 [==============================] - 2s 141ms/step - loss: 2.2234e-04 - val_loss: 0.0012\n",
      "Epoch 79/100\n",
      "12/12 [==============================] - 2s 140ms/step - loss: 2.1271e-04 - val_loss: 0.0012\n",
      "Epoch 80/100\n",
      "12/12 [==============================] - 2s 140ms/step - loss: 2.0781e-04 - val_loss: 0.0012\n",
      "Epoch 81/100\n",
      "12/12 [==============================] - 2s 145ms/step - loss: 2.0060e-04 - val_loss: 0.0011\n",
      "Epoch 82/100\n",
      "12/12 [==============================] - 2s 144ms/step - loss: 1.9791e-04 - val_loss: 0.0011\n",
      "Epoch 83/100\n",
      "12/12 [==============================] - 2s 143ms/step - loss: 1.9744e-04 - val_loss: 0.0014\n",
      "Epoch 84/100\n",
      "12/12 [==============================] - 2s 146ms/step - loss: 2.2094e-04 - val_loss: 0.0011\n",
      "Epoch 85/100\n",
      "12/12 [==============================] - 2s 166ms/step - loss: 1.9254e-04 - val_loss: 0.0011\n",
      "Epoch 86/100\n",
      "12/12 [==============================] - 2s 145ms/step - loss: 1.9219e-04 - val_loss: 0.0011\n",
      "Epoch 87/100\n",
      "12/12 [==============================] - 2s 144ms/step - loss: 2.0687e-04 - val_loss: 0.0012\n",
      "Epoch 88/100\n",
      "12/12 [==============================] - 2s 144ms/step - loss: 1.8664e-04 - val_loss: 0.0011\n",
      "Epoch 89/100\n",
      "12/12 [==============================] - 2s 146ms/step - loss: 1.7380e-04 - val_loss: 0.0011\n",
      "Epoch 90/100\n",
      "12/12 [==============================] - 2s 145ms/step - loss: 1.7643e-04 - val_loss: 0.0023\n",
      "Epoch 91/100\n",
      "12/12 [==============================] - 2s 144ms/step - loss: 2.2168e-04 - val_loss: 0.0011\n",
      "Epoch 92/100\n",
      "12/12 [==============================] - 2s 144ms/step - loss: 1.7407e-04 - val_loss: 0.0010\n",
      "Epoch 93/100\n",
      "12/12 [==============================] - 2s 143ms/step - loss: 1.6246e-04 - val_loss: 0.0011\n",
      "Epoch 94/100\n",
      "12/12 [==============================] - 2s 145ms/step - loss: 1.6503e-04 - val_loss: 0.0012\n",
      "Epoch 95/100\n",
      "12/12 [==============================] - 2s 144ms/step - loss: 1.9047e-04 - val_loss: 9.9427e-04\n",
      "Epoch 96/100\n",
      "12/12 [==============================] - 2s 149ms/step - loss: 1.8176e-04 - val_loss: 0.0012\n",
      "Epoch 97/100\n",
      "12/12 [==============================] - 2s 142ms/step - loss: 1.7699e-04 - val_loss: 0.0010\n",
      "Epoch 98/100\n",
      "12/12 [==============================] - 2s 147ms/step - loss: 1.7759e-04 - val_loss: 0.0018\n",
      "Epoch 99/100\n",
      "12/12 [==============================] - 2s 142ms/step - loss: 2.4252e-04 - val_loss: 0.0011\n",
      "Epoch 100/100\n",
      "12/12 [==============================] - 2s 144ms/step - loss: 1.8242e-04 - val_loss: 9.8324e-04\n"
     ]
    },
    {
     "data": {
      "text/plain": [
       "<keras.callbacks.History at 0x7a7154eb3f10>"
      ]
     },
     "execution_count": 23,
     "metadata": {},
     "output_type": "execute_result"
    }
   ],
   "source": [
    "model.fit(x_train,y_train,validation_data=(x_test,y_test),epochs=100,batch_size=64,verbose=1)"
   ]
  },
  {
   "cell_type": "code",
   "execution_count": 24,
   "id": "6310e04d",
   "metadata": {
    "execution": {
     "iopub.execute_input": "2023-04-08T07:45:27.147233Z",
     "iopub.status.busy": "2023-04-08T07:45:27.146553Z",
     "iopub.status.idle": "2023-04-08T07:45:29.495405Z",
     "shell.execute_reply": "2023-04-08T07:45:29.494644Z"
    },
    "papermill": {
     "duration": 2.437747,
     "end_time": "2023-04-08T07:45:29.497754",
     "exception": false,
     "start_time": "2023-04-08T07:45:27.060007",
     "status": "completed"
    },
    "tags": []
   },
   "outputs": [
    {
     "name": "stdout",
     "output_type": "stream",
     "text": [
      "23/23 [==============================] - 2s 30ms/step\n",
      "11/11 [==============================] - 0s 30ms/step\n"
     ]
    }
   ],
   "source": [
    "# check model performance-\n",
    "train_predict = model.predict(x_train)\n",
    "test_predict =model.predict(x_test)"
   ]
  },
  {
   "cell_type": "code",
   "execution_count": 25,
   "id": "644071b9",
   "metadata": {
    "execution": {
     "iopub.execute_input": "2023-04-08T07:45:29.686568Z",
     "iopub.status.busy": "2023-04-08T07:45:29.685326Z",
     "iopub.status.idle": "2023-04-08T07:45:29.693334Z",
     "shell.execute_reply": "2023-04-08T07:45:29.691463Z"
    },
    "papermill": {
     "duration": 0.110229,
     "end_time": "2023-04-08T07:45:29.696368",
     "exception": false,
     "start_time": "2023-04-08T07:45:29.586139",
     "status": "completed"
    },
    "tags": []
   },
   "outputs": [],
   "source": [
    "# feature tainsform in origional form\n",
    "train_predict = scalar.inverse_transform(train_predict)\n",
    "test_predict = scalar.inverse_transform(test_predict)"
   ]
  },
  {
   "cell_type": "code",
   "execution_count": 26,
   "id": "8ea5796f",
   "metadata": {
    "execution": {
     "iopub.execute_input": "2023-04-08T07:45:29.875607Z",
     "iopub.status.busy": "2023-04-08T07:45:29.874694Z",
     "iopub.status.idle": "2023-04-08T07:45:29.930242Z",
     "shell.execute_reply": "2023-04-08T07:45:29.929013Z"
    },
    "papermill": {
     "duration": 0.147297,
     "end_time": "2023-04-08T07:45:29.932297",
     "exception": false,
     "start_time": "2023-04-08T07:45:29.785000",
     "status": "completed"
    },
    "tags": []
   },
   "outputs": [
    {
     "name": "stdout",
     "output_type": "stream",
     "text": [
      "error_in training 142.94261995185445\n",
      "error in testing 239.79826420808146\n"
     ]
    }
   ],
   "source": [
    "from sklearn import metrics\n",
    "import math\n",
    "print(\"error_in training\",math.sqrt(metrics.mean_squared_error(y_train,train_predict)))\n",
    "print(\"error in testing\",math.sqrt(metrics.mean_squared_error(y_test,test_predict)))\n",
    "      "
   ]
  },
  {
   "cell_type": "code",
   "execution_count": 27,
   "id": "d3f33670",
   "metadata": {
    "execution": {
     "iopub.execute_input": "2023-04-08T07:45:30.109333Z",
     "iopub.status.busy": "2023-04-08T07:45:30.108292Z",
     "iopub.status.idle": "2023-04-08T07:45:30.252168Z",
     "shell.execute_reply": "2023-04-08T07:45:30.251273Z"
    },
    "papermill": {
     "duration": 0.235669,
     "end_time": "2023-04-08T07:45:30.254672",
     "exception": false,
     "start_time": "2023-04-08T07:45:30.019003",
     "status": "completed"
    },
    "tags": []
   },
   "outputs": [
    {
     "data": {
      "image/png": "[encoded data removed]",
      "text/plain": [
       "<Figure size 640x480 with 1 Axes>"
      ]
     },
     "metadata": {},
     "output_type": "display_data"
    }
   ],
   "source": [
    "### Plotting \n",
    "# shift train predictions for plotting\n",
    "look_back=100\n",
    "trainPredictPlot = np.empty_like(df)\n",
    "trainPredictPlot[:, :] = np.nan\n",
    "trainPredictPlot[look_back:len(train_predict)+look_back, :] = train_predict\n",
    "# shift test predictions for plotting\n",
    "testPredictPlot = np.empty_like(df)\n",
    "testPredictPlot[:, :] = np.nan\n",
    "testPredictPlot[len(train_predict)+(look_back*2)+1:len(df)-1, :] = test_predict\n",
    "# plot baseline and predictions\n",
    "plt.plot(scalar.inverse_transform(df))\n",
    "plt.plot(trainPredictPlot)\n",
    "plt.plot(testPredictPlot)\n",
    "plt.show()"
   ]
  },
  {
   "cell_type": "code",
   "execution_count": 28,
   "id": "e351ba65",
   "metadata": {
    "execution": {
     "iopub.execute_input": "2023-04-08T07:45:30.435976Z",
     "iopub.status.busy": "2023-04-08T07:45:30.434954Z",
     "iopub.status.idle": "2023-04-08T07:45:30.441270Z",
     "shell.execute_reply": "2023-04-08T07:45:30.440372Z"
    },
    "papermill": {
     "duration": 0.098769,
     "end_time": "2023-04-08T07:45:30.443141",
     "exception": false,
     "start_time": "2023-04-08T07:45:30.344372",
     "status": "completed"
    },
    "tags": []
   },
   "outputs": [
    {
     "data": {
      "text/plain": [
       "441"
      ]
     },
     "execution_count": 28,
     "metadata": {},
     "output_type": "execute_result"
    }
   ],
   "source": [
    "len(test_data)"
   ]
  },
  {
   "cell_type": "code",
   "execution_count": 29,
   "id": "f68b22be",
   "metadata": {
    "execution": {
     "iopub.execute_input": "2023-04-08T07:45:30.622789Z",
     "iopub.status.busy": "2023-04-08T07:45:30.622433Z",
     "iopub.status.idle": "2023-04-08T07:45:30.630097Z",
     "shell.execute_reply": "2023-04-08T07:45:30.628928Z"
    },
    "papermill": {
     "duration": 0.099819,
     "end_time": "2023-04-08T07:45:30.632498",
     "exception": false,
     "start_time": "2023-04-08T07:45:30.532679",
     "status": "completed"
    },
    "tags": []
   },
   "outputs": [
    {
     "data": {
      "text/plain": [
       "(1, 100)"
      ]
     },
     "execution_count": 29,
     "metadata": {},
     "output_type": "execute_result"
    }
   ],
   "source": [
    "x_input=test_data[341:].reshape(1,-1)\n",
    "x_input.shape"
   ]
  },
  {
   "cell_type": "code",
   "execution_count": 30,
   "id": "54897d77",
   "metadata": {
    "execution": {
     "iopub.execute_input": "2023-04-08T07:45:30.865655Z",
     "iopub.status.busy": "2023-04-08T07:45:30.865259Z",
     "iopub.status.idle": "2023-04-08T07:45:30.870350Z",
     "shell.execute_reply": "2023-04-08T07:45:30.868965Z"
    },
    "papermill": {
     "duration": 0.097014,
     "end_time": "2023-04-08T07:45:30.872919",
     "exception": false,
     "start_time": "2023-04-08T07:45:30.775905",
     "status": "completed"
    },
    "tags": []
   },
   "outputs": [],
   "source": [
    "temp_input=list(x_input)\n",
    "temp_input=temp_input[0].tolist()"
   ]
  },
  {
   "cell_type": "code",
   "execution_count": 31,
   "id": "d678ce20",
   "metadata": {
    "execution": {
     "iopub.execute_input": "2023-04-08T07:45:31.056169Z",
     "iopub.status.busy": "2023-04-08T07:45:31.055817Z",
     "iopub.status.idle": "2023-04-08T07:45:31.063103Z",
     "shell.execute_reply": "2023-04-08T07:45:31.062424Z"
    },
    "papermill": {
     "duration": 0.100996,
     "end_time": "2023-04-08T07:45:31.064822",
     "exception": false,
     "start_time": "2023-04-08T07:45:30.963826",
     "status": "completed"
    },
    "tags": []
   },
   "outputs": [
    {
     "data": {
      "text/plain": [
       "[0.8583551465000423,\n",
       " 0.8866418981676942,\n",
       " 0.8743139407244789,\n",
       " 0.8843198513890065,\n",
       " 0.8783669678290975,\n",
       " 0.8986321033521913,\n",
       " 0.925821160179009,\n",
       " 0.9287764924427933,\n",
       " 0.9567677108840666,\n",
       " 0.9386979650426415,\n",
       " 0.933040614709111,\n",
       " 0.9495060373216249,\n",
       " 0.9642404796082076,\n",
       " 0.9551211686228154,\n",
       " 0.9598919192772104,\n",
       " 0.9663514312251966,\n",
       " 0.9624672802499368,\n",
       " 0.9229502659799038,\n",
       " 0.9598497002448705,\n",
       " 0.9879253567508233,\n",
       " 0.985941062230854,\n",
       " 0.9253145317909315,\n",
       " 0.9217259140420504,\n",
       " 0.964747107996285,\n",
       " 0.9757240564046274,\n",
       " 0.9915984125643842,\n",
       " 0.9697289538123788,\n",
       " 0.9761462467280253,\n",
       " 0.9679557544541082,\n",
       " 1.0000000000000002,\n",
       " 0.9901629654648318,\n",
       " 0.9905007177235499,\n",
       " 0.9653803934813816,\n",
       " 0.9848855864223593,\n",
       " 0.9708688676855528,\n",
       " 0.9402600692392133,\n",
       " 0.8774803681499621,\n",
       " 0.8348391454867856,\n",
       " 0.8541332432660644,\n",
       " 0.7733682344000676,\n",
       " 0.7726927298826314,\n",
       " 0.8801401671873683,\n",
       " 0.8400743054969182,\n",
       " 0.8967322468969012,\n",
       " 0.8552731571392387,\n",
       " 0.8388499535590646,\n",
       " 0.7423372456303303,\n",
       " 0.8232711306256861,\n",
       " 0.7814320695769654,\n",
       " 0.6665963016127672,\n",
       " 0.7921557037912694,\n",
       " 0.6411804441442204,\n",
       " 0.6861437135860848,\n",
       " 0.6600101325677616,\n",
       " 0.6520307354555435,\n",
       " 0.5864223591995272,\n",
       " 0.5658616904500551,\n",
       " 0.660896732246897,\n",
       " 0.6551549438486872,\n",
       " 0.7097019336316812,\n",
       " 0.664527569028118,\n",
       " 0.6943764248923416,\n",
       " 0.692181035210673,\n",
       " 0.6356919699400492,\n",
       " 0.6526640209406402,\n",
       " 0.637802921557038,\n",
       " 0.7267162036646122,\n",
       " 0.7138816178333194,\n",
       " 0.7419150553069325,\n",
       " 0.7500211095161702,\n",
       " 0.7722283205268936,\n",
       " 0.8304905851557884,\n",
       " 0.8194291986827664,\n",
       " 0.8289706999915563,\n",
       " 0.8125474964113824,\n",
       " 0.7877649244279323,\n",
       " 0.7516254327450818,\n",
       " 0.7842607447437306,\n",
       " 0.7797433082833742,\n",
       " 0.8132652199611587,\n",
       " 0.8141096006079542,\n",
       " 0.7947310647639958,\n",
       " 0.8333614793548934,\n",
       " 0.8589884319851391,\n",
       " 0.8390188296884238,\n",
       " 0.8562864139153934,\n",
       " 0.8748627881448958,\n",
       " 0.887824031073208,\n",
       " 0.9009541501308793,\n",
       " 0.9279321117959978,\n",
       " 0.9485349995778098,\n",
       " 0.9333361479354896,\n",
       " 0.9174617917757326,\n",
       " 0.925441188887951,\n",
       " 0.9177151059697712,\n",
       " 0.9483239044161109,\n",
       " 0.9406400405302711,\n",
       " 0.9663514312251966,\n",
       " 0.9563033015283293,\n",
       " 0.964915984125644]"
      ]
     },
     "execution_count": 31,
     "metadata": {},
     "output_type": "execute_result"
    }
   ],
   "source": [
    "temp_input"
   ]
  },
  {
   "cell_type": "code",
   "execution_count": 32,
   "id": "174cfd6e",
   "metadata": {
    "execution": {
     "iopub.execute_input": "2023-04-08T07:45:31.247325Z",
     "iopub.status.busy": "2023-04-08T07:45:31.246980Z",
     "iopub.status.idle": "2023-04-08T07:45:33.042594Z",
     "shell.execute_reply": "2023-04-08T07:45:33.041123Z"
    },
    "papermill": {
     "duration": 1.889941,
     "end_time": "2023-04-08T07:45:33.044910",
     "exception": false,
     "start_time": "2023-04-08T07:45:31.154969",
     "status": "completed"
    },
    "tags": []
   },
   "outputs": [
    {
     "name": "stdout",
     "output_type": "stream",
     "text": [
      "[0.95991135]\n",
      "101\n",
      "1 day input [0.8866419  0.87431394 0.88431985 0.87836697 0.8986321  0.92582116\n",
      " 0.92877649 0.95676771 0.93869797 0.93304061 0.94950604 0.96424048\n",
      " 0.95512117 0.95989192 0.96635143 0.96246728 0.92295027 0.9598497\n",
      " 0.98792536 0.98594106 0.92531453 0.92172591 0.96474711 0.97572406\n",
      " 0.99159841 0.96972895 0.97614625 0.96795575 1.         0.99016297\n",
      " 0.99050072 0.96538039 0.98488559 0.97086887 0.94026007 0.87748037\n",
      " 0.83483915 0.85413324 0.77336823 0.77269273 0.88014017 0.84007431\n",
      " 0.89673225 0.85527316 0.83884995 0.74233725 0.82327113 0.78143207\n",
      " 0.6665963  0.7921557  0.64118044 0.68614371 0.66001013 0.65203074\n",
      " 0.58642236 0.56586169 0.66089673 0.65515494 0.70970193 0.66452757\n",
      " 0.69437642 0.69218104 0.63569197 0.65266402 0.63780292 0.7267162\n",
      " 0.71388162 0.74191506 0.75002111 0.77222832 0.83049059 0.8194292\n",
      " 0.8289707  0.8125475  0.78776492 0.75162543 0.78426074 0.77974331\n",
      " 0.81326522 0.8141096  0.79473106 0.83336148 0.85898843 0.83901883\n",
      " 0.85628641 0.87486279 0.88782403 0.90095415 0.92793211 0.948535\n",
      " 0.93333615 0.91746179 0.92544119 0.91771511 0.9483239  0.94064004\n",
      " 0.96635143 0.9563033  0.96491598 0.95991135]\n",
      "1 day output [[0.96044844]]\n",
      "2 day input [0.87431394 0.88431985 0.87836697 0.8986321  0.92582116 0.92877649\n",
      " 0.95676771 0.93869797 0.93304061 0.94950604 0.96424048 0.95512117\n",
      " 0.95989192 0.96635143 0.96246728 0.92295027 0.9598497  0.98792536\n",
      " 0.98594106 0.92531453 0.92172591 0.96474711 0.97572406 0.99159841\n",
      " 0.96972895 0.97614625 0.96795575 1.         0.99016297 0.99050072\n",
      " 0.96538039 0.98488559 0.97086887 0.94026007 0.87748037 0.83483915\n",
      " 0.85413324 0.77336823 0.77269273 0.88014017 0.84007431 0.89673225\n",
      " 0.85527316 0.83884995 0.74233725 0.82327113 0.78143207 0.6665963\n",
      " 0.7921557  0.64118044 0.68614371 0.66001013 0.65203074 0.58642236\n",
      " 0.56586169 0.66089673 0.65515494 0.70970193 0.66452757 0.69437642\n",
      " 0.69218104 0.63569197 0.65266402 0.63780292 0.7267162  0.71388162\n",
      " 0.74191506 0.75002111 0.77222832 0.83049059 0.8194292  0.8289707\n",
      " 0.8125475  0.78776492 0.75162543 0.78426074 0.77974331 0.81326522\n",
      " 0.8141096  0.79473106 0.83336148 0.85898843 0.83901883 0.85628641\n",
      " 0.87486279 0.88782403 0.90095415 0.92793211 0.948535   0.93333615\n",
      " 0.91746179 0.92544119 0.91771511 0.9483239  0.94064004 0.96635143\n",
      " 0.9563033  0.96491598 0.95991135 0.96044844]\n",
      "2 day output [[0.95882803]]\n",
      "3 day input [0.88431985 0.87836697 0.8986321  0.92582116 0.92877649 0.95676771\n",
      " 0.93869797 0.93304061 0.94950604 0.96424048 0.95512117 0.95989192\n",
      " 0.96635143 0.96246728 0.92295027 0.9598497  0.98792536 0.98594106\n",
      " 0.92531453 0.92172591 0.96474711 0.97572406 0.99159841 0.96972895\n",
      " 0.97614625 0.96795575 1.         0.99016297 0.99050072 0.96538039\n",
      " 0.98488559 0.97086887 0.94026007 0.87748037 0.83483915 0.85413324\n",
      " 0.77336823 0.77269273 0.88014017 0.84007431 0.89673225 0.85527316\n",
      " 0.83884995 0.74233725 0.82327113 0.78143207 0.6665963  0.7921557\n",
      " 0.64118044 0.68614371 0.66001013 0.65203074 0.58642236 0.56586169\n",
      " 0.66089673 0.65515494 0.70970193 0.66452757 0.69437642 0.69218104\n",
      " 0.63569197 0.65266402 0.63780292 0.7267162  0.71388162 0.74191506\n",
      " 0.75002111 0.77222832 0.83049059 0.8194292  0.8289707  0.8125475\n",
      " 0.78776492 0.75162543 0.78426074 0.77974331 0.81326522 0.8141096\n",
      " 0.79473106 0.83336148 0.85898843 0.83901883 0.85628641 0.87486279\n",
      " 0.88782403 0.90095415 0.92793211 0.948535   0.93333615 0.91746179\n",
      " 0.92544119 0.91771511 0.9483239  0.94064004 0.96635143 0.9563033\n",
      " 0.96491598 0.95991135 0.96044844 0.95882803]\n",
      "3 day output [[0.956969]]\n",
      "4 day input [0.87836697 0.8986321  0.92582116 0.92877649 0.95676771 0.93869797\n",
      " 0.93304061 0.94950604 0.96424048 0.95512117 0.95989192 0.96635143\n",
      " 0.96246728 0.92295027 0.9598497  0.98792536 0.98594106 0.92531453\n",
      " 0.92172591 0.96474711 0.97572406 0.99159841 0.96972895 0.97614625\n",
      " 0.96795575 1.         0.99016297 0.99050072 0.96538039 0.98488559\n",
      " 0.97086887 0.94026007 0.87748037 0.83483915 0.85413324 0.77336823\n",
      " 0.77269273 0.88014017 0.84007431 0.89673225 0.85527316 0.83884995\n",
      " 0.74233725 0.82327113 0.78143207 0.6665963  0.7921557  0.64118044\n",
      " 0.68614371 0.66001013 0.65203074 0.58642236 0.56586169 0.66089673\n",
      " 0.65515494 0.70970193 0.66452757 0.69437642 0.69218104 0.63569197\n",
      " 0.65266402 0.63780292 0.7267162  0.71388162 0.74191506 0.75002111\n",
      " 0.77222832 0.83049059 0.8194292  0.8289707  0.8125475  0.78776492\n",
      " 0.75162543 0.78426074 0.77974331 0.81326522 0.8141096  0.79473106\n",
      " 0.83336148 0.85898843 0.83901883 0.85628641 0.87486279 0.88782403\n",
      " 0.90095415 0.92793211 0.948535   0.93333615 0.91746179 0.92544119\n",
      " 0.91771511 0.9483239  0.94064004 0.96635143 0.9563033  0.96491598\n",
      " 0.95991135 0.96044844 0.95882803 0.95696902]\n",
      "4 day output [[0.95572984]]\n",
      "5 day input [0.8986321  0.92582116 0.92877649 0.95676771 0.93869797 0.93304061\n",
      " 0.94950604 0.96424048 0.95512117 0.95989192 0.96635143 0.96246728\n",
      " 0.92295027 0.9598497  0.98792536 0.98594106 0.92531453 0.92172591\n",
      " 0.96474711 0.97572406 0.99159841 0.96972895 0.97614625 0.96795575\n",
      " 1.         0.99016297 0.99050072 0.96538039 0.98488559 0.97086887\n",
      " 0.94026007 0.87748037 0.83483915 0.85413324 0.77336823 0.77269273\n",
      " 0.88014017 0.84007431 0.89673225 0.85527316 0.83884995 0.74233725\n",
      " 0.82327113 0.78143207 0.6665963  0.7921557  0.64118044 0.68614371\n",
      " 0.66001013 0.65203074 0.58642236 0.56586169 0.66089673 0.65515494\n",
      " 0.70970193 0.66452757 0.69437642 0.69218104 0.63569197 0.65266402\n",
      " 0.63780292 0.7267162  0.71388162 0.74191506 0.75002111 0.77222832\n",
      " 0.83049059 0.8194292  0.8289707  0.8125475  0.78776492 0.75162543\n",
      " 0.78426074 0.77974331 0.81326522 0.8141096  0.79473106 0.83336148\n",
      " 0.85898843 0.83901883 0.85628641 0.87486279 0.88782403 0.90095415\n",
      " 0.92793211 0.948535   0.93333615 0.91746179 0.92544119 0.91771511\n",
      " 0.9483239  0.94064004 0.96635143 0.9563033  0.96491598 0.95991135\n",
      " 0.96044844 0.95882803 0.95696902 0.95572984]\n",
      "5 day output [[0.95543605]]\n",
      "6 day input [0.92582116 0.92877649 0.95676771 0.93869797 0.93304061 0.94950604\n",
      " 0.96424048 0.95512117 0.95989192 0.96635143 0.96246728 0.92295027\n",
      " 0.9598497  0.98792536 0.98594106 0.92531453 0.92172591 0.96474711\n",
      " 0.97572406 0.99159841 0.96972895 0.97614625 0.96795575 1.\n",
      " 0.99016297 0.99050072 0.96538039 0.98488559 0.97086887 0.94026007\n",
      " 0.87748037 0.83483915 0.85413324 0.77336823 0.77269273 0.88014017\n",
      " 0.84007431 0.89673225 0.85527316 0.83884995 0.74233725 0.82327113\n",
      " 0.78143207 0.6665963  0.7921557  0.64118044 0.68614371 0.66001013\n",
      " 0.65203074 0.58642236 0.56586169 0.66089673 0.65515494 0.70970193\n",
      " 0.66452757 0.69437642 0.69218104 0.63569197 0.65266402 0.63780292\n",
      " 0.7267162  0.71388162 0.74191506 0.75002111 0.77222832 0.83049059\n",
      " 0.8194292  0.8289707  0.8125475  0.78776492 0.75162543 0.78426074\n",
      " 0.77974331 0.81326522 0.8141096  0.79473106 0.83336148 0.85898843\n",
      " 0.83901883 0.85628641 0.87486279 0.88782403 0.90095415 0.92793211\n",
      " 0.948535   0.93333615 0.91746179 0.92544119 0.91771511 0.9483239\n",
      " 0.94064004 0.96635143 0.9563033  0.96491598 0.95991135 0.96044844\n",
      " 0.95882803 0.95696902 0.95572984 0.95543605]\n",
      "6 day output [[0.95617193]]\n",
      "7 day input [0.92877649 0.95676771 0.93869797 0.93304061 0.94950604 0.96424048\n",
      " 0.95512117 0.95989192 0.96635143 0.96246728 0.92295027 0.9598497\n",
      " 0.98792536 0.98594106 0.92531453 0.92172591 0.96474711 0.97572406\n",
      " 0.99159841 0.96972895 0.97614625 0.96795575 1.         0.99016297\n",
      " 0.99050072 0.96538039 0.98488559 0.97086887 0.94026007 0.87748037\n",
      " 0.83483915 0.85413324 0.77336823 0.77269273 0.88014017 0.84007431\n",
      " 0.89673225 0.85527316 0.83884995 0.74233725 0.82327113 0.78143207\n",
      " 0.6665963  0.7921557  0.64118044 0.68614371 0.66001013 0.65203074\n",
      " 0.58642236 0.56586169 0.66089673 0.65515494 0.70970193 0.66452757\n",
      " 0.69437642 0.69218104 0.63569197 0.65266402 0.63780292 0.7267162\n",
      " 0.71388162 0.74191506 0.75002111 0.77222832 0.83049059 0.8194292\n",
      " 0.8289707  0.8125475  0.78776492 0.75162543 0.78426074 0.77974331\n",
      " 0.81326522 0.8141096  0.79473106 0.83336148 0.85898843 0.83901883\n",
      " 0.85628641 0.87486279 0.88782403 0.90095415 0.92793211 0.948535\n",
      " 0.93333615 0.91746179 0.92544119 0.91771511 0.9483239  0.94064004\n",
      " 0.96635143 0.9563033  0.96491598 0.95991135 0.96044844 0.95882803\n",
      " 0.95696902 0.95572984 0.95543605 0.95617193]\n",
      "7 day output [[0.95787454]]\n",
      "8 day input [0.95676771 0.93869797 0.93304061 0.94950604 0.96424048 0.95512117\n",
      " 0.95989192 0.96635143 0.96246728 0.92295027 0.9598497  0.98792536\n",
      " 0.98594106 0.92531453 0.92172591 0.96474711 0.97572406 0.99159841\n",
      " 0.96972895 0.97614625 0.96795575 1.         0.99016297 0.99050072\n",
      " 0.96538039 0.98488559 0.97086887 0.94026007 0.87748037 0.83483915\n",
      " 0.85413324 0.77336823 0.77269273 0.88014017 0.84007431 0.89673225\n",
      " 0.85527316 0.83884995 0.74233725 0.82327113 0.78143207 0.6665963\n",
      " 0.7921557  0.64118044 0.68614371 0.66001013 0.65203074 0.58642236\n",
      " 0.56586169 0.66089673 0.65515494 0.70970193 0.66452757 0.69437642\n",
      " 0.69218104 0.63569197 0.65266402 0.63780292 0.7267162  0.71388162\n",
      " 0.74191506 0.75002111 0.77222832 0.83049059 0.8194292  0.8289707\n",
      " 0.8125475  0.78776492 0.75162543 0.78426074 0.77974331 0.81326522\n",
      " 0.8141096  0.79473106 0.83336148 0.85898843 0.83901883 0.85628641\n",
      " 0.87486279 0.88782403 0.90095415 0.92793211 0.948535   0.93333615\n",
      " 0.91746179 0.92544119 0.91771511 0.9483239  0.94064004 0.96635143\n",
      " 0.9563033  0.96491598 0.95991135 0.96044844 0.95882803 0.95696902\n",
      " 0.95572984 0.95543605 0.95617193 0.95787454]\n",
      "8 day output [[0.9603789]]\n",
      "9 day input [0.93869797 0.93304061 0.94950604 0.96424048 0.95512117 0.95989192\n",
      " 0.96635143 0.96246728 0.92295027 0.9598497  0.98792536 0.98594106\n",
      " 0.92531453 0.92172591 0.96474711 0.97572406 0.99159841 0.96972895\n",
      " 0.97614625 0.96795575 1.         0.99016297 0.99050072 0.96538039\n",
      " 0.98488559 0.97086887 0.94026007 0.87748037 0.83483915 0.85413324\n",
      " 0.77336823 0.77269273 0.88014017 0.84007431 0.89673225 0.85527316\n",
      " 0.83884995 0.74233725 0.82327113 0.78143207 0.6665963  0.7921557\n",
      " 0.64118044 0.68614371 0.66001013 0.65203074 0.58642236 0.56586169\n",
      " 0.66089673 0.65515494 0.70970193 0.66452757 0.69437642 0.69218104\n",
      " 0.63569197 0.65266402 0.63780292 0.7267162  0.71388162 0.74191506\n",
      " 0.75002111 0.77222832 0.83049059 0.8194292  0.8289707  0.8125475\n",
      " 0.78776492 0.75162543 0.78426074 0.77974331 0.81326522 0.8141096\n",
      " 0.79473106 0.83336148 0.85898843 0.83901883 0.85628641 0.87486279\n",
      " 0.88782403 0.90095415 0.92793211 0.948535   0.93333615 0.91746179\n",
      " 0.92544119 0.91771511 0.9483239  0.94064004 0.96635143 0.9563033\n",
      " 0.96491598 0.95991135 0.96044844 0.95882803 0.95696902 0.95572984\n",
      " 0.95543605 0.95617193 0.95787454 0.96037889]\n",
      "9 day output [[0.9634564]]\n",
      "10 day input [0.93304061 0.94950604 0.96424048 0.95512117 0.95989192 0.96635143\n",
      " 0.96246728 0.92295027 0.9598497  0.98792536 0.98594106 0.92531453\n",
      " 0.92172591 0.96474711 0.97572406 0.99159841 0.96972895 0.97614625\n",
      " 0.96795575 1.         0.99016297 0.99050072 0.96538039 0.98488559\n",
      " 0.97086887 0.94026007 0.87748037 0.83483915 0.85413324 0.77336823\n",
      " 0.77269273 0.88014017 0.84007431 0.89673225 0.85527316 0.83884995\n",
      " 0.74233725 0.82327113 0.78143207 0.6665963  0.7921557  0.64118044\n",
      " 0.68614371 0.66001013 0.65203074 0.58642236 0.56586169 0.66089673\n",
      " 0.65515494 0.70970193 0.66452757 0.69437642 0.69218104 0.63569197\n",
      " 0.65266402 0.63780292 0.7267162  0.71388162 0.74191506 0.75002111\n",
      " 0.77222832 0.83049059 0.8194292  0.8289707  0.8125475  0.78776492\n",
      " 0.75162543 0.78426074 0.77974331 0.81326522 0.8141096  0.79473106\n",
      " 0.83336148 0.85898843 0.83901883 0.85628641 0.87486279 0.88782403\n",
      " 0.90095415 0.92793211 0.948535   0.93333615 0.91746179 0.92544119\n",
      " 0.91771511 0.9483239  0.94064004 0.96635143 0.9563033  0.96491598\n",
      " 0.95991135 0.96044844 0.95882803 0.95696902 0.95572984 0.95543605\n",
      " 0.95617193 0.95787454 0.96037889 0.96345639]\n",
      "10 day output [[0.96685904]]\n",
      "11 day input [0.94950604 0.96424048 0.95512117 0.95989192 0.96635143 0.96246728\n",
      " 0.92295027 0.9598497  0.98792536 0.98594106 0.92531453 0.92172591\n",
      " 0.96474711 0.97572406 0.99159841 0.96972895 0.97614625 0.96795575\n",
      " 1.         0.99016297 0.99050072 0.96538039 0.98488559 0.97086887\n",
      " 0.94026007 0.87748037 0.83483915 0.85413324 0.77336823 0.77269273\n",
      " 0.88014017 0.84007431 0.89673225 0.85527316 0.83884995 0.74233725\n",
      " 0.82327113 0.78143207 0.6665963  0.7921557  0.64118044 0.68614371\n",
      " 0.66001013 0.65203074 0.58642236 0.56586169 0.66089673 0.65515494\n",
      " 0.70970193 0.66452757 0.69437642 0.69218104 0.63569197 0.65266402\n",
      " 0.63780292 0.7267162  0.71388162 0.74191506 0.75002111 0.77222832\n",
      " 0.83049059 0.8194292  0.8289707  0.8125475  0.78776492 0.75162543\n",
      " 0.78426074 0.77974331 0.81326522 0.8141096  0.79473106 0.83336148\n",
      " 0.85898843 0.83901883 0.85628641 0.87486279 0.88782403 0.90095415\n",
      " 0.92793211 0.948535   0.93333615 0.91746179 0.92544119 0.91771511\n",
      " 0.9483239  0.94064004 0.96635143 0.9563033  0.96491598 0.95991135\n",
      " 0.96044844 0.95882803 0.95696902 0.95572984 0.95543605 0.95617193\n",
      " 0.95787454 0.96037889 0.96345639 0.96685904]\n",
      "11 day output [[0.97035956]]\n",
      "12 day input [0.96424048 0.95512117 0.95989192 0.96635143 0.96246728 0.92295027\n",
      " 0.9598497  0.98792536 0.98594106 0.92531453 0.92172591 0.96474711\n",
      " 0.97572406 0.99159841 0.96972895 0.97614625 0.96795575 1.\n",
      " 0.99016297 0.99050072 0.96538039 0.98488559 0.97086887 0.94026007\n",
      " 0.87748037 0.83483915 0.85413324 0.77336823 0.77269273 0.88014017\n",
      " 0.84007431 0.89673225 0.85527316 0.83884995 0.74233725 0.82327113\n",
      " 0.78143207 0.6665963  0.7921557  0.64118044 0.68614371 0.66001013\n",
      " 0.65203074 0.58642236 0.56586169 0.66089673 0.65515494 0.70970193\n",
      " 0.66452757 0.69437642 0.69218104 0.63569197 0.65266402 0.63780292\n",
      " 0.7267162  0.71388162 0.74191506 0.75002111 0.77222832 0.83049059\n",
      " 0.8194292  0.8289707  0.8125475  0.78776492 0.75162543 0.78426074\n",
      " 0.77974331 0.81326522 0.8141096  0.79473106 0.83336148 0.85898843\n",
      " 0.83901883 0.85628641 0.87486279 0.88782403 0.90095415 0.92793211\n",
      " 0.948535   0.93333615 0.91746179 0.92544119 0.91771511 0.9483239\n",
      " 0.94064004 0.96635143 0.9563033  0.96491598 0.95991135 0.96044844\n",
      " 0.95882803 0.95696902 0.95572984 0.95543605 0.95617193 0.95787454\n",
      " 0.96037889 0.96345639 0.96685904 0.97035956]\n",
      "12 day output [[0.9737757]]\n",
      "13 day input [0.95512117 0.95989192 0.96635143 0.96246728 0.92295027 0.9598497\n",
      " 0.98792536 0.98594106 0.92531453 0.92172591 0.96474711 0.97572406\n",
      " 0.99159841 0.96972895 0.97614625 0.96795575 1.         0.99016297\n",
      " 0.99050072 0.96538039 0.98488559 0.97086887 0.94026007 0.87748037\n",
      " 0.83483915 0.85413324 0.77336823 0.77269273 0.88014017 0.84007431\n",
      " 0.89673225 0.85527316 0.83884995 0.74233725 0.82327113 0.78143207\n",
      " 0.6665963  0.7921557  0.64118044 0.68614371 0.66001013 0.65203074\n",
      " 0.58642236 0.56586169 0.66089673 0.65515494 0.70970193 0.66452757\n",
      " 0.69437642 0.69218104 0.63569197 0.65266402 0.63780292 0.7267162\n",
      " 0.71388162 0.74191506 0.75002111 0.77222832 0.83049059 0.8194292\n",
      " 0.8289707  0.8125475  0.78776492 0.75162543 0.78426074 0.77974331\n",
      " 0.81326522 0.8141096  0.79473106 0.83336148 0.85898843 0.83901883\n",
      " 0.85628641 0.87486279 0.88782403 0.90095415 0.92793211 0.948535\n",
      " 0.93333615 0.91746179 0.92544119 0.91771511 0.9483239  0.94064004\n",
      " 0.96635143 0.9563033  0.96491598 0.95991135 0.96044844 0.95882803\n",
      " 0.95696902 0.95572984 0.95543605 0.95617193 0.95787454 0.96037889\n",
      " 0.96345639 0.96685904 0.97035956 0.97377568]\n",
      "13 day output [[0.9769865]]\n",
      "14 day input [0.95989192 0.96635143 0.96246728 0.92295027 0.9598497  0.98792536\n",
      " 0.98594106 0.92531453 0.92172591 0.96474711 0.97572406 0.99159841\n",
      " 0.96972895 0.97614625 0.96795575 1.         0.99016297 0.99050072\n",
      " 0.96538039 0.98488559 0.97086887 0.94026007 0.87748037 0.83483915\n",
      " 0.85413324 0.77336823 0.77269273 0.88014017 0.84007431 0.89673225\n",
      " 0.85527316 0.83884995 0.74233725 0.82327113 0.78143207 0.6665963\n",
      " 0.7921557  0.64118044 0.68614371 0.66001013 0.65203074 0.58642236\n",
      " 0.56586169 0.66089673 0.65515494 0.70970193 0.66452757 0.69437642\n",
      " 0.69218104 0.63569197 0.65266402 0.63780292 0.7267162  0.71388162\n",
      " 0.74191506 0.75002111 0.77222832 0.83049059 0.8194292  0.8289707\n",
      " 0.8125475  0.78776492 0.75162543 0.78426074 0.77974331 0.81326522\n",
      " 0.8141096  0.79473106 0.83336148 0.85898843 0.83901883 0.85628641\n",
      " 0.87486279 0.88782403 0.90095415 0.92793211 0.948535   0.93333615\n",
      " 0.91746179 0.92544119 0.91771511 0.9483239  0.94064004 0.96635143\n",
      " 0.9563033  0.96491598 0.95991135 0.96044844 0.95882803 0.95696902\n",
      " 0.95572984 0.95543605 0.95617193 0.95787454 0.96037889 0.96345639\n",
      " 0.96685904 0.97035956 0.97377568 0.97698653]\n",
      "14 day output [[0.97993267]]\n",
      "15 day input [0.96635143 0.96246728 0.92295027 0.9598497  0.98792536 0.98594106\n",
      " 0.92531453 0.92172591 0.96474711 0.97572406 0.99159841 0.96972895\n",
      " 0.97614625 0.96795575 1.         0.99016297 0.99050072 0.96538039\n",
      " 0.98488559 0.97086887 0.94026007 0.87748037 0.83483915 0.85413324\n",
      " 0.77336823 0.77269273 0.88014017 0.84007431 0.89673225 0.85527316\n",
      " 0.83884995 0.74233725 0.82327113 0.78143207 0.6665963  0.7921557\n",
      " 0.64118044 0.68614371 0.66001013 0.65203074 0.58642236 0.56586169\n",
      " 0.66089673 0.65515494 0.70970193 0.66452757 0.69437642 0.69218104\n",
      " 0.63569197 0.65266402 0.63780292 0.7267162  0.71388162 0.74191506\n",
      " 0.75002111 0.77222832 0.83049059 0.8194292  0.8289707  0.8125475\n",
      " 0.78776492 0.75162543 0.78426074 0.77974331 0.81326522 0.8141096\n",
      " 0.79473106 0.83336148 0.85898843 0.83901883 0.85628641 0.87486279\n",
      " 0.88782403 0.90095415 0.92793211 0.948535   0.93333615 0.91746179\n",
      " 0.92544119 0.91771511 0.9483239  0.94064004 0.96635143 0.9563033\n",
      " 0.96491598 0.95991135 0.96044844 0.95882803 0.95696902 0.95572984\n",
      " 0.95543605 0.95617193 0.95787454 0.96037889 0.96345639 0.96685904\n",
      " 0.97035956 0.97377568 0.97698653 0.97993267]\n",
      "15 day output [[0.9826092]]\n",
      "16 day input [0.96246728 0.92295027 0.9598497  0.98792536 0.98594106 0.92531453\n",
      " 0.92172591 0.96474711 0.97572406 0.99159841 0.96972895 0.97614625\n",
      " 0.96795575 1.         0.99016297 0.99050072 0.96538039 0.98488559\n",
      " 0.97086887 0.94026007 0.87748037 0.83483915 0.85413324 0.77336823\n",
      " 0.77269273 0.88014017 0.84007431 0.89673225 0.85527316 0.83884995\n",
      " 0.74233725 0.82327113 0.78143207 0.6665963  0.7921557  0.64118044\n",
      " 0.68614371 0.66001013 0.65203074 0.58642236 0.56586169 0.66089673\n",
      " 0.65515494 0.70970193 0.66452757 0.69437642 0.69218104 0.63569197\n",
      " 0.65266402 0.63780292 0.7267162  0.71388162 0.74191506 0.75002111\n",
      " 0.77222832 0.83049059 0.8194292  0.8289707  0.8125475  0.78776492\n",
      " 0.75162543 0.78426074 0.77974331 0.81326522 0.8141096  0.79473106\n",
      " 0.83336148 0.85898843 0.83901883 0.85628641 0.87486279 0.88782403\n",
      " 0.90095415 0.92793211 0.948535   0.93333615 0.91746179 0.92544119\n",
      " 0.91771511 0.9483239  0.94064004 0.96635143 0.9563033  0.96491598\n",
      " 0.95991135 0.96044844 0.95882803 0.95696902 0.95572984 0.95543605\n",
      " 0.95617193 0.95787454 0.96037889 0.96345639 0.96685904 0.97035956\n",
      " 0.97377568 0.97698653 0.97993267 0.98260921]\n",
      "16 day output [[0.9850519]]\n",
      "17 day input [0.92295027 0.9598497  0.98792536 0.98594106 0.92531453 0.92172591\n",
      " 0.96474711 0.97572406 0.99159841 0.96972895 0.97614625 0.96795575\n",
      " 1.         0.99016297 0.99050072 0.96538039 0.98488559 0.97086887\n",
      " 0.94026007 0.87748037 0.83483915 0.85413324 0.77336823 0.77269273\n",
      " 0.88014017 0.84007431 0.89673225 0.85527316 0.83884995 0.74233725\n",
      " 0.82327113 0.78143207 0.6665963  0.7921557  0.64118044 0.68614371\n",
      " 0.66001013 0.65203074 0.58642236 0.56586169 0.66089673 0.65515494\n",
      " 0.70970193 0.66452757 0.69437642 0.69218104 0.63569197 0.65266402\n",
      " 0.63780292 0.7267162  0.71388162 0.74191506 0.75002111 0.77222832\n",
      " 0.83049059 0.8194292  0.8289707  0.8125475  0.78776492 0.75162543\n",
      " 0.78426074 0.77974331 0.81326522 0.8141096  0.79473106 0.83336148\n",
      " 0.85898843 0.83901883 0.85628641 0.87486279 0.88782403 0.90095415\n",
      " 0.92793211 0.948535   0.93333615 0.91746179 0.92544119 0.91771511\n",
      " 0.9483239  0.94064004 0.96635143 0.9563033  0.96491598 0.95991135\n",
      " 0.96044844 0.95882803 0.95696902 0.95572984 0.95543605 0.95617193\n",
      " 0.95787454 0.96037889 0.96345639 0.96685904 0.97035956 0.97377568\n",
      " 0.97698653 0.97993267 0.98260921 0.98505187]\n",
      "17 day output [[0.98732126]]\n",
      "18 day input [0.9598497  0.98792536 0.98594106 0.92531453 0.92172591 0.96474711\n",
      " 0.97572406 0.99159841 0.96972895 0.97614625 0.96795575 1.\n",
      " 0.99016297 0.99050072 0.96538039 0.98488559 0.97086887 0.94026007\n",
      " 0.87748037 0.83483915 0.85413324 0.77336823 0.77269273 0.88014017\n",
      " 0.84007431 0.89673225 0.85527316 0.83884995 0.74233725 0.82327113\n",
      " 0.78143207 0.6665963  0.7921557  0.64118044 0.68614371 0.66001013\n",
      " 0.65203074 0.58642236 0.56586169 0.66089673 0.65515494 0.70970193\n",
      " 0.66452757 0.69437642 0.69218104 0.63569197 0.65266402 0.63780292\n",
      " 0.7267162  0.71388162 0.74191506 0.75002111 0.77222832 0.83049059\n",
      " 0.8194292  0.8289707  0.8125475  0.78776492 0.75162543 0.78426074\n",
      " 0.77974331 0.81326522 0.8141096  0.79473106 0.83336148 0.85898843\n",
      " 0.83901883 0.85628641 0.87486279 0.88782403 0.90095415 0.92793211\n",
      " 0.948535   0.93333615 0.91746179 0.92544119 0.91771511 0.9483239\n",
      " 0.94064004 0.96635143 0.9563033  0.96491598 0.95991135 0.96044844\n",
      " 0.95882803 0.95696902 0.95572984 0.95543605 0.95617193 0.95787454\n",
      " 0.96037889 0.96345639 0.96685904 0.97035956 0.97377568 0.97698653\n",
      " 0.97993267 0.98260921 0.98505187 0.98732126]\n",
      "18 day output [[0.989487]]\n",
      "19 day input [0.98792536 0.98594106 0.92531453 0.92172591 0.96474711 0.97572406\n",
      " 0.99159841 0.96972895 0.97614625 0.96795575 1.         0.99016297\n",
      " 0.99050072 0.96538039 0.98488559 0.97086887 0.94026007 0.87748037\n",
      " 0.83483915 0.85413324 0.77336823 0.77269273 0.88014017 0.84007431\n",
      " 0.89673225 0.85527316 0.83884995 0.74233725 0.82327113 0.78143207\n",
      " 0.6665963  0.7921557  0.64118044 0.68614371 0.66001013 0.65203074\n",
      " 0.58642236 0.56586169 0.66089673 0.65515494 0.70970193 0.66452757\n",
      " 0.69437642 0.69218104 0.63569197 0.65266402 0.63780292 0.7267162\n",
      " 0.71388162 0.74191506 0.75002111 0.77222832 0.83049059 0.8194292\n",
      " 0.8289707  0.8125475  0.78776492 0.75162543 0.78426074 0.77974331\n",
      " 0.81326522 0.8141096  0.79473106 0.83336148 0.85898843 0.83901883\n",
      " 0.85628641 0.87486279 0.88782403 0.90095415 0.92793211 0.948535\n",
      " 0.93333615 0.91746179 0.92544119 0.91771511 0.9483239  0.94064004\n",
      " 0.96635143 0.9563033  0.96491598 0.95991135 0.96044844 0.95882803\n",
      " 0.95696902 0.95572984 0.95543605 0.95617193 0.95787454 0.96037889\n",
      " 0.96345639 0.96685904 0.97035956 0.97377568 0.97698653 0.97993267\n",
      " 0.98260921 0.98505187 0.98732126 0.98948699]\n",
      "19 day output [[0.99161386]]\n",
      "20 day input [0.98594106 0.92531453 0.92172591 0.96474711 0.97572406 0.99159841\n",
      " 0.96972895 0.97614625 0.96795575 1.         0.99016297 0.99050072\n",
      " 0.96538039 0.98488559 0.97086887 0.94026007 0.87748037 0.83483915\n",
      " 0.85413324 0.77336823 0.77269273 0.88014017 0.84007431 0.89673225\n",
      " 0.85527316 0.83884995 0.74233725 0.82327113 0.78143207 0.6665963\n",
      " 0.7921557  0.64118044 0.68614371 0.66001013 0.65203074 0.58642236\n",
      " 0.56586169 0.66089673 0.65515494 0.70970193 0.66452757 0.69437642\n",
      " 0.69218104 0.63569197 0.65266402 0.63780292 0.7267162  0.71388162\n",
      " 0.74191506 0.75002111 0.77222832 0.83049059 0.8194292  0.8289707\n",
      " 0.8125475  0.78776492 0.75162543 0.78426074 0.77974331 0.81326522\n",
      " 0.8141096  0.79473106 0.83336148 0.85898843 0.83901883 0.85628641\n",
      " 0.87486279 0.88782403 0.90095415 0.92793211 0.948535   0.93333615\n",
      " 0.91746179 0.92544119 0.91771511 0.9483239  0.94064004 0.96635143\n",
      " 0.9563033  0.96491598 0.95991135 0.96044844 0.95882803 0.95696902\n",
      " 0.95572984 0.95543605 0.95617193 0.95787454 0.96037889 0.96345639\n",
      " 0.96685904 0.97035956 0.97377568 0.97698653 0.97993267 0.98260921\n",
      " 0.98505187 0.98732126 0.98948699 0.99161386]\n",
      "20 day output [[0.9937533]]\n",
      "21 day input [0.92531453 0.92172591 0.96474711 0.97572406 0.99159841 0.96972895\n",
      " 0.97614625 0.96795575 1.         0.99016297 0.99050072 0.96538039\n",
      " 0.98488559 0.97086887 0.94026007 0.87748037 0.83483915 0.85413324\n",
      " 0.77336823 0.77269273 0.88014017 0.84007431 0.89673225 0.85527316\n",
      " 0.83884995 0.74233725 0.82327113 0.78143207 0.6665963  0.7921557\n",
      " 0.64118044 0.68614371 0.66001013 0.65203074 0.58642236 0.56586169\n",
      " 0.66089673 0.65515494 0.70970193 0.66452757 0.69437642 0.69218104\n",
      " 0.63569197 0.65266402 0.63780292 0.7267162  0.71388162 0.74191506\n",
      " 0.75002111 0.77222832 0.83049059 0.8194292  0.8289707  0.8125475\n",
      " 0.78776492 0.75162543 0.78426074 0.77974331 0.81326522 0.8141096\n",
      " 0.79473106 0.83336148 0.85898843 0.83901883 0.85628641 0.87486279\n",
      " 0.88782403 0.90095415 0.92793211 0.948535   0.93333615 0.91746179\n",
      " 0.92544119 0.91771511 0.9483239  0.94064004 0.96635143 0.9563033\n",
      " 0.96491598 0.95991135 0.96044844 0.95882803 0.95696902 0.95572984\n",
      " 0.95543605 0.95617193 0.95787454 0.96037889 0.96345639 0.96685904\n",
      " 0.97035956 0.97377568 0.97698653 0.97993267 0.98260921 0.98505187\n",
      " 0.98732126 0.98948699 0.99161386 0.99375331]\n",
      "21 day output [[0.9959383]]\n",
      "22 day input [0.92172591 0.96474711 0.97572406 0.99159841 0.96972895 0.97614625\n",
      " 0.96795575 1.         0.99016297 0.99050072 0.96538039 0.98488559\n",
      " 0.97086887 0.94026007 0.87748037 0.83483915 0.85413324 0.77336823\n",
      " 0.77269273 0.88014017 0.84007431 0.89673225 0.85527316 0.83884995\n",
      " 0.74233725 0.82327113 0.78143207 0.6665963  0.7921557  0.64118044\n",
      " 0.68614371 0.66001013 0.65203074 0.58642236 0.56586169 0.66089673\n",
      " 0.65515494 0.70970193 0.66452757 0.69437642 0.69218104 0.63569197\n",
      " 0.65266402 0.63780292 0.7267162  0.71388162 0.74191506 0.75002111\n",
      " 0.77222832 0.83049059 0.8194292  0.8289707  0.8125475  0.78776492\n",
      " 0.75162543 0.78426074 0.77974331 0.81326522 0.8141096  0.79473106\n",
      " 0.83336148 0.85898843 0.83901883 0.85628641 0.87486279 0.88782403\n",
      " 0.90095415 0.92793211 0.948535   0.93333615 0.91746179 0.92544119\n",
      " 0.91771511 0.9483239  0.94064004 0.96635143 0.9563033  0.96491598\n",
      " 0.95991135 0.96044844 0.95882803 0.95696902 0.95572984 0.95543605\n",
      " 0.95617193 0.95787454 0.96037889 0.96345639 0.96685904 0.97035956\n",
      " 0.97377568 0.97698653 0.97993267 0.98260921 0.98505187 0.98732126\n",
      " 0.98948699 0.99161386 0.99375331 0.9959383 ]\n",
      "22 day output [[0.99818254]]\n",
      "23 day input [0.96474711 0.97572406 0.99159841 0.96972895 0.97614625 0.96795575\n",
      " 1.         0.99016297 0.99050072 0.96538039 0.98488559 0.97086887\n",
      " 0.94026007 0.87748037 0.83483915 0.85413324 0.77336823 0.77269273\n",
      " 0.88014017 0.84007431 0.89673225 0.85527316 0.83884995 0.74233725\n",
      " 0.82327113 0.78143207 0.6665963  0.7921557  0.64118044 0.68614371\n",
      " 0.66001013 0.65203074 0.58642236 0.56586169 0.66089673 0.65515494\n",
      " 0.70970193 0.66452757 0.69437642 0.69218104 0.63569197 0.65266402\n",
      " 0.63780292 0.7267162  0.71388162 0.74191506 0.75002111 0.77222832\n",
      " 0.83049059 0.8194292  0.8289707  0.8125475  0.78776492 0.75162543\n",
      " 0.78426074 0.77974331 0.81326522 0.8141096  0.79473106 0.83336148\n",
      " 0.85898843 0.83901883 0.85628641 0.87486279 0.88782403 0.90095415\n",
      " 0.92793211 0.948535   0.93333615 0.91746179 0.92544119 0.91771511\n",
      " 0.9483239  0.94064004 0.96635143 0.9563033  0.96491598 0.95991135\n",
      " 0.96044844 0.95882803 0.95696902 0.95572984 0.95543605 0.95617193\n",
      " 0.95787454 0.96037889 0.96345639 0.96685904 0.97035956 0.97377568\n",
      " 0.97698653 0.97993267 0.98260921 0.98505187 0.98732126 0.98948699\n",
      " 0.99161386 0.99375331 0.9959383  0.99818254]\n",
      "23 day output [[1.000482]]\n",
      "24 day input [0.97572406 0.99159841 0.96972895 0.97614625 0.96795575 1.\n",
      " 0.99016297 0.99050072 0.96538039 0.98488559 0.97086887 0.94026007\n",
      " 0.87748037 0.83483915 0.85413324 0.77336823 0.77269273 0.88014017\n",
      " 0.84007431 0.89673225 0.85527316 0.83884995 0.74233725 0.82327113\n",
      " 0.78143207 0.6665963  0.7921557  0.64118044 0.68614371 0.66001013\n",
      " 0.65203074 0.58642236 0.56586169 0.66089673 0.65515494 0.70970193\n",
      " 0.66452757 0.69437642 0.69218104 0.63569197 0.65266402 0.63780292\n",
      " 0.7267162  0.71388162 0.74191506 0.75002111 0.77222832 0.83049059\n",
      " 0.8194292  0.8289707  0.8125475  0.78776492 0.75162543 0.78426074\n",
      " 0.77974331 0.81326522 0.8141096  0.79473106 0.83336148 0.85898843\n",
      " 0.83901883 0.85628641 0.87486279 0.88782403 0.90095415 0.92793211\n",
      " 0.948535   0.93333615 0.91746179 0.92544119 0.91771511 0.9483239\n",
      " 0.94064004 0.96635143 0.9563033  0.96491598 0.95991135 0.96044844\n",
      " 0.95882803 0.95696902 0.95572984 0.95543605 0.95617193 0.95787454\n",
      " 0.96037889 0.96345639 0.96685904 0.97035956 0.97377568 0.97698653\n",
      " 0.97993267 0.98260921 0.98505187 0.98732126 0.98948699 0.99161386\n",
      " 0.99375331 0.9959383  0.99818254 1.00048196]\n",
      "24 day output [[1.0028205]]\n",
      "25 day input [0.99159841 0.96972895 0.97614625 0.96795575 1.         0.99016297\n",
      " 0.99050072 0.96538039 0.98488559 0.97086887 0.94026007 0.87748037\n",
      " 0.83483915 0.85413324 0.77336823 0.77269273 0.88014017 0.84007431\n",
      " 0.89673225 0.85527316 0.83884995 0.74233725 0.82327113 0.78143207\n",
      " 0.6665963  0.7921557  0.64118044 0.68614371 0.66001013 0.65203074\n",
      " 0.58642236 0.56586169 0.66089673 0.65515494 0.70970193 0.66452757\n",
      " 0.69437642 0.69218104 0.63569197 0.65266402 0.63780292 0.7267162\n",
      " 0.71388162 0.74191506 0.75002111 0.77222832 0.83049059 0.8194292\n",
      " 0.8289707  0.8125475  0.78776492 0.75162543 0.78426074 0.77974331\n",
      " 0.81326522 0.8141096  0.79473106 0.83336148 0.85898843 0.83901883\n",
      " 0.85628641 0.87486279 0.88782403 0.90095415 0.92793211 0.948535\n",
      " 0.93333615 0.91746179 0.92544119 0.91771511 0.9483239  0.94064004\n",
      " 0.96635143 0.9563033  0.96491598 0.95991135 0.96044844 0.95882803\n",
      " 0.95696902 0.95572984 0.95543605 0.95617193 0.95787454 0.96037889\n",
      " 0.96345639 0.96685904 0.97035956 0.97377568 0.97698653 0.97993267\n",
      " 0.98260921 0.98505187 0.98732126 0.98948699 0.99161386 0.99375331\n",
      " 0.9959383  0.99818254 1.00048196 1.00282049]\n",
      "25 day output [[1.0051749]]\n",
      "26 day input [0.96972895 0.97614625 0.96795575 1.         0.99016297 0.99050072\n",
      " 0.96538039 0.98488559 0.97086887 0.94026007 0.87748037 0.83483915\n",
      " 0.85413324 0.77336823 0.77269273 0.88014017 0.84007431 0.89673225\n",
      " 0.85527316 0.83884995 0.74233725 0.82327113 0.78143207 0.6665963\n",
      " 0.7921557  0.64118044 0.68614371 0.66001013 0.65203074 0.58642236\n",
      " 0.56586169 0.66089673 0.65515494 0.70970193 0.66452757 0.69437642\n",
      " 0.69218104 0.63569197 0.65266402 0.63780292 0.7267162  0.71388162\n",
      " 0.74191506 0.75002111 0.77222832 0.83049059 0.8194292  0.8289707\n",
      " 0.8125475  0.78776492 0.75162543 0.78426074 0.77974331 0.81326522\n",
      " 0.8141096  0.79473106 0.83336148 0.85898843 0.83901883 0.85628641\n",
      " 0.87486279 0.88782403 0.90095415 0.92793211 0.948535   0.93333615\n",
      " 0.91746179 0.92544119 0.91771511 0.9483239  0.94064004 0.96635143\n",
      " 0.9563033  0.96491598 0.95991135 0.96044844 0.95882803 0.95696902\n",
      " 0.95572984 0.95543605 0.95617193 0.95787454 0.96037889 0.96345639\n",
      " 0.96685904 0.97035956 0.97377568 0.97698653 0.97993267 0.98260921\n",
      " 0.98505187 0.98732126 0.98948699 0.99161386 0.99375331 0.9959383\n",
      " 0.99818254 1.00048196 1.00282049 1.00517488]\n",
      "26 day output [[1.0075179]]\n",
      "27 day input [0.97614625 0.96795575 1.         0.99016297 0.99050072 0.96538039\n",
      " 0.98488559 0.97086887 0.94026007 0.87748037 0.83483915 0.85413324\n",
      " 0.77336823 0.77269273 0.88014017 0.84007431 0.89673225 0.85527316\n",
      " 0.83884995 0.74233725 0.82327113 0.78143207 0.6665963  0.7921557\n",
      " 0.64118044 0.68614371 0.66001013 0.65203074 0.58642236 0.56586169\n",
      " 0.66089673 0.65515494 0.70970193 0.66452757 0.69437642 0.69218104\n",
      " 0.63569197 0.65266402 0.63780292 0.7267162  0.71388162 0.74191506\n",
      " 0.75002111 0.77222832 0.83049059 0.8194292  0.8289707  0.8125475\n",
      " 0.78776492 0.75162543 0.78426074 0.77974331 0.81326522 0.8141096\n",
      " 0.79473106 0.83336148 0.85898843 0.83901883 0.85628641 0.87486279\n",
      " 0.88782403 0.90095415 0.92793211 0.948535   0.93333615 0.91746179\n",
      " 0.92544119 0.91771511 0.9483239  0.94064004 0.96635143 0.9563033\n",
      " 0.96491598 0.95991135 0.96044844 0.95882803 0.95696902 0.95572984\n",
      " 0.95543605 0.95617193 0.95787454 0.96037889 0.96345639 0.96685904\n",
      " 0.97035956 0.97377568 0.97698653 0.97993267 0.98260921 0.98505187\n",
      " 0.98732126 0.98948699 0.99161386 0.99375331 0.9959383  0.99818254\n",
      " 1.00048196 1.00282049 1.00517488 1.00751793]\n",
      "27 day output [[1.0098267]]\n",
      "28 day input [0.96795575 1.         0.99016297 0.99050072 0.96538039 0.98488559\n",
      " 0.97086887 0.94026007 0.87748037 0.83483915 0.85413324 0.77336823\n",
      " 0.77269273 0.88014017 0.84007431 0.89673225 0.85527316 0.83884995\n",
      " 0.74233725 0.82327113 0.78143207 0.6665963  0.7921557  0.64118044\n",
      " 0.68614371 0.66001013 0.65203074 0.58642236 0.56586169 0.66089673\n",
      " 0.65515494 0.70970193 0.66452757 0.69437642 0.69218104 0.63569197\n",
      " 0.65266402 0.63780292 0.7267162  0.71388162 0.74191506 0.75002111\n",
      " 0.77222832 0.83049059 0.8194292  0.8289707  0.8125475  0.78776492\n",
      " 0.75162543 0.78426074 0.77974331 0.81326522 0.8141096  0.79473106\n",
      " 0.83336148 0.85898843 0.83901883 0.85628641 0.87486279 0.88782403\n",
      " 0.90095415 0.92793211 0.948535   0.93333615 0.91746179 0.92544119\n",
      " 0.91771511 0.9483239  0.94064004 0.96635143 0.9563033  0.96491598\n",
      " 0.95991135 0.96044844 0.95882803 0.95696902 0.95572984 0.95543605\n",
      " 0.95617193 0.95787454 0.96037889 0.96345639 0.96685904 0.97035956\n",
      " 0.97377568 0.97698653 0.97993267 0.98260921 0.98505187 0.98732126\n",
      " 0.98948699 0.99161386 0.99375331 0.9959383  0.99818254 1.00048196\n",
      " 1.00282049 1.00517488 1.00751793 1.00982666]\n",
      "28 day output [[1.0120815]]\n",
      "29 day input [1.         0.99016297 0.99050072 0.96538039 0.98488559 0.97086887\n",
      " 0.94026007 0.87748037 0.83483915 0.85413324 0.77336823 0.77269273\n",
      " 0.88014017 0.84007431 0.89673225 0.85527316 0.83884995 0.74233725\n",
      " 0.82327113 0.78143207 0.6665963  0.7921557  0.64118044 0.68614371\n",
      " 0.66001013 0.65203074 0.58642236 0.56586169 0.66089673 0.65515494\n",
      " 0.70970193 0.66452757 0.69437642 0.69218104 0.63569197 0.65266402\n",
      " 0.63780292 0.7267162  0.71388162 0.74191506 0.75002111 0.77222832\n",
      " 0.83049059 0.8194292  0.8289707  0.8125475  0.78776492 0.75162543\n",
      " 0.78426074 0.77974331 0.81326522 0.8141096  0.79473106 0.83336148\n",
      " 0.85898843 0.83901883 0.85628641 0.87486279 0.88782403 0.90095415\n",
      " 0.92793211 0.948535   0.93333615 0.91746179 0.92544119 0.91771511\n",
      " 0.9483239  0.94064004 0.96635143 0.9563033  0.96491598 0.95991135\n",
      " 0.96044844 0.95882803 0.95696902 0.95572984 0.95543605 0.95617193\n",
      " 0.95787454 0.96037889 0.96345639 0.96685904 0.97035956 0.97377568\n",
      " 0.97698653 0.97993267 0.98260921 0.98505187 0.98732126 0.98948699\n",
      " 0.99161386 0.99375331 0.9959383  0.99818254 1.00048196 1.00282049\n",
      " 1.00517488 1.00751793 1.00982666 1.0120815 ]\n",
      "29 day output [[1.0142697]]\n",
      "[[0.9599113464355469], [0.9604484438896179], [0.9588280320167542], [0.9569690227508545], [0.9557298421859741], [0.9554360508918762], [0.9561719298362732], [0.9578745365142822], [0.960378885269165], [0.963456392288208], [0.9668590426445007], [0.9703595638275146], [0.9737756848335266], [0.9769865274429321], [0.9799326658248901], [0.982609212398529], [0.9850518703460693], [0.9873212575912476], [0.9894869923591614], [0.9916138648986816], [0.9937533140182495], [0.9959383010864258], [0.9981825351715088], [1.0004819631576538], [1.0028204917907715], [1.0051748752593994], [1.00751793384552], [1.00982666015625], [1.012081503868103], [1.0142697095870972]]\n"
     ]
    }
   ],
   "source": [
    "# demonstrate prediction for next 10 days\n",
    "from numpy import array\n",
    "\n",
    "lst_output=[]\n",
    "n_steps=100\n",
    "i=0\n",
    "while(i<30):\n",
    "    \n",
    "    if(len(temp_input)>100):\n",
    "        #print(temp_input)\n",
    "        x_input=np.array(temp_input[1:])\n",
    "        print(\"{} day input {}\".format(i,x_input))\n",
    "        x_input=x_input.reshape(1,-1)\n",
    "        x_input = x_input.reshape((1, n_steps, 1))\n",
    "        #print(x_input)\n",
    "        yhat = model.predict(x_input, verbose=0)\n",
    "        print(\"{} day output {}\".format(i,yhat))\n",
    "        temp_input.extend(yhat[0].tolist())\n",
    "        temp_input=temp_input[1:]\n",
    "        #print(temp_input)\n",
    "        lst_output.extend(yhat.tolist())\n",
    "        i=i+1\n",
    "    else:\n",
    "        x_input = x_input.reshape((1, n_steps,1))\n",
    "        yhat = model.predict(x_input, verbose=0)\n",
    "        print(yhat[0])\n",
    "        temp_input.extend(yhat[0].tolist())\n",
    "        print(len(temp_input))\n",
    "        lst_output.extend(yhat.tolist())\n",
    "        i=i+1\n",
    "    \n",
    "\n",
    "print(lst_output)"
   ]
  },
  {
   "cell_type": "code",
   "execution_count": 33,
   "id": "34c875b9",
   "metadata": {
    "execution": {
     "iopub.execute_input": "2023-04-08T07:45:33.228605Z",
     "iopub.status.busy": "2023-04-08T07:45:33.228134Z",
     "iopub.status.idle": "2023-04-08T07:45:33.233943Z",
     "shell.execute_reply": "2023-04-08T07:45:33.232499Z"
    },
    "papermill": {
     "duration": 0.099669,
     "end_time": "2023-04-08T07:45:33.235960",
     "exception": false,
     "start_time": "2023-04-08T07:45:33.136291",
     "status": "completed"
    },
    "tags": []
   },
   "outputs": [],
   "source": [
    "day_new=np.arange(1,101)\n",
    "day_pred=np.arange(101,131)"
   ]
  },
  {
   "cell_type": "code",
   "execution_count": 34,
   "id": "d2634e55",
   "metadata": {
    "execution": {
     "iopub.execute_input": "2023-04-08T07:45:33.422065Z",
     "iopub.status.busy": "2023-04-08T07:45:33.421674Z",
     "iopub.status.idle": "2023-04-08T07:45:33.572943Z",
     "shell.execute_reply": "2023-04-08T07:45:33.571851Z"
    },
    "papermill": {
     "duration": 0.247198,
     "end_time": "2023-04-08T07:45:33.575710",
     "exception": false,
     "start_time": "2023-04-08T07:45:33.328512",
     "status": "completed"
    },
    "tags": []
   },
   "outputs": [
    {
     "data": {
      "text/plain": [
       "[<matplotlib.lines.Line2D at 0x7a7155439810>]"
      ]
     },
     "execution_count": 34,
     "metadata": {},
     "output_type": "execute_result"
    },
    {
     "data": {
      "image/png": "[encoded data removed]",
      "text/plain": [
       "<Figure size 640x480 with 1 Axes>"
      ]
     },
     "metadata": {},
     "output_type": "display_data"
    }
   ],
   "source": [
    "plt.plot(day_new,scalar.inverse_transform(df[1158:]))\n",
    "plt.plot(day_pred,scalar.inverse_transform(lst_output))"
   ]
  },
  {
   "cell_type": "code",
   "execution_count": 35,
   "id": "757aebdd",
   "metadata": {
    "execution": {
     "iopub.execute_input": "2023-04-08T07:45:33.755347Z",
     "iopub.status.busy": "2023-04-08T07:45:33.754947Z",
     "iopub.status.idle": "2023-04-08T07:45:33.887566Z",
     "shell.execute_reply": "2023-04-08T07:45:33.886320Z"
    },
    "papermill": {
     "duration": 0.225319,
     "end_time": "2023-04-08T07:45:33.890338",
     "exception": false,
     "start_time": "2023-04-08T07:45:33.665019",
     "status": "completed"
    },
    "tags": []
   },
   "outputs": [
    {
     "data": {
      "text/plain": [
       "[<matplotlib.lines.Line2D at 0x7a71554d24d0>]"
      ]
     },
     "execution_count": 35,
     "metadata": {},
     "output_type": "execute_result"
    },
    {
     "data": {
      "image/png": "[encoded data removed]",
      "text/plain": [
       "<Figure size 640x480 with 1 Axes>"
      ]
     },
     "metadata": {},
     "output_type": "display_data"
    }
   ],
   "source": [
    "df3=df.tolist()\n",
    "df3.extend(lst_output)\n",
    "plt.plot(df3[1200:])"
   ]
  },
  {
   "cell_type": "code",
   "execution_count": 36,
   "id": "00d2710d",
   "metadata": {
    "execution": {
     "iopub.execute_input": "2023-04-08T07:45:34.078755Z",
     "iopub.status.busy": "2023-04-08T07:45:34.078350Z",
     "iopub.status.idle": "2023-04-08T07:45:34.085737Z",
     "shell.execute_reply": "2023-04-08T07:45:34.084415Z"
    },
    "papermill": {
     "duration": 0.104132,
     "end_time": "2023-04-08T07:45:34.087881",
     "exception": false,
     "start_time": "2023-04-08T07:45:33.983749",
     "status": "completed"
    },
    "tags": []
   },
   "outputs": [],
   "source": [
    "df3=scalar.inverse_transform(df3).tolist()"
   ]
  },
  {
   "cell_type": "code",
   "execution_count": 37,
   "id": "00ef6e55",
   "metadata": {
    "execution": {
     "iopub.execute_input": "2023-04-08T07:45:34.272809Z",
     "iopub.status.busy": "2023-04-08T07:45:34.271510Z",
     "iopub.status.idle": "2023-04-08T07:45:34.429233Z",
     "shell.execute_reply": "2023-04-08T07:45:34.427943Z"
    },
    "papermill": {
     "duration": 0.252068,
     "end_time": "2023-04-08T07:45:34.431419",
     "exception": false,
     "start_time": "2023-04-08T07:45:34.179351",
     "status": "completed"
    },
    "tags": []
   },
   "outputs": [
    {
     "data": {
      "text/plain": [
       "[<matplotlib.lines.Line2D at 0x7a71554b9490>]"
      ]
     },
     "execution_count": 37,
     "metadata": {},
     "output_type": "execute_result"
    },
    {
     "data": {
      "image/png": "[encoded data removed]",
      "text/plain": [
       "<Figure size 640x480 with 1 Axes>"
      ]
     },
     "metadata": {},
     "output_type": "display_data"
    }
   ],
   "source": [
    "plt.plot(df3)"
   ]
  },
  {
   "cell_type": "code",
   "execution_count": null,
   "id": "8ff18ccb",
   "metadata": {
    "papermill": {
     "duration": 0.09433,
     "end_time": "2023-04-08T07:45:34.616951",
     "exception": false,
     "start_time": "2023-04-08T07:45:34.522621",
     "status": "completed"
    },
    "tags": []
   },
   "outputs": [],
   "source": []
  }
 ],
 "metadata": {
  "kernelspec": {
   "display_name": "Python 3",
   "language": "python",
   "name": "python3"
  },
  "language_info": {
   "codemirror_mode": {
    "name": "ipython",
    "version": 3
   },
   "file_extension": ".py",
   "mimetype": "text/x-python",
   "name": "python",
   "nbconvert_exporter": "python",
   "pygments_lexer": "ipython3",
   "version": "3.7.12"
  },
  "papermill": {
   "default_parameters": {},
   "duration": 205.567999,
   "end_time": "2023-04-08T07:45:38.069831",
   "environment_variables": {},
   "exception": null,
   "input_path": "__notebook__.ipynb",
   "output_path": "__notebook__.ipynb",
   "parameters": {},
   "start_time": "2023-04-08T07:42:12.501832",
   "version": "2.4.0"
  }
 },
 "nbformat": 4,
 "nbformat_minor": 5
}
